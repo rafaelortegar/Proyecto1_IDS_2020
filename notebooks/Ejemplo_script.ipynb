{
 "cells": [
  {
   "cell_type": "code",
   "execution_count": 1,
   "metadata": {},
   "outputs": [],
   "source": [
    "import pandas as pd\n",
    "import pickle"
   ]
  },
  {
   "cell_type": "code",
   "execution_count": 2,
   "metadata": {},
   "outputs": [],
   "source": [
    "import os, sys\n",
    "sys.path.insert(0, os.path.abspath(\"..\"))"
   ]
  },
  {
   "cell_type": "code",
   "execution_count": 3,
   "metadata": {},
   "outputs": [],
   "source": [
    "from src import utils, pipelines, proyecto_1"
   ]
  },
  {
   "cell_type": "code",
   "execution_count": 5,
   "metadata": {},
   "outputs": [
    {
     "name": "stdout",
     "output_type": "stream",
     "text": [
      "13\n",
      "14\n",
      "15\n",
      "16\n",
      "17\n",
      "18\n",
      "19\n",
      "20\n",
      "Index(['alvaro_obregon', 'azcapotzalco', 'benito_juarez', 'coyoacan',\n",
      "       'cuajimalpa', 'cuauhtemoc', 'gustavo_a_madero', 'iztacalco',\n",
      "       'iztapalapa', 'magdalena_contreras', 'miguel_hidalgo', 'milpa_alta',\n",
      "       'tlahuac', 'tlalpan', 'venustiano_carranza', 'xochimilco', 'accidente',\n",
      "       'cadaver', 'detencion_ciudadana', 'lesionado', 'mi_ciudad', 'sismo',\n",
      "       'fecha_creacion', 'hora_creacion', 'dia_semana', 'tipo_entrada', 'mes',\n",
      "       'label', 'sin_hr', 'cos_hr', 'sin_mes', 'cos_mes', 'timestamp_creacion',\n",
      "       'tipo_dia', 'trimestre', 'sin_trim', 'cos_trim', 'llamada'],\n",
      "      dtype='object')\n",
      "comienza modelado de feature selection:\n",
      "Fitting 5 folds for each of 12 candidates, totalling 60 fits\n"
     ]
    },
    {
     "name": "stderr",
     "output_type": "stream",
     "text": [
      "[Parallel(n_jobs=-1)]: Using backend LokyBackend with 8 concurrent workers.\n",
      "[Parallel(n_jobs=-1)]: Done  34 tasks      | elapsed: 31.8min\n",
      "[Parallel(n_jobs=-1)]: Done  60 out of  60 | elapsed: 98.5min finished\n"
     ]
    },
    {
     "name": "stdout",
     "output_type": "stream",
     "text": [
      "La lista de variables a mantener es:\n",
      "31      llamada\n",
      "16    accidente\n",
      "19    lesionado\n",
      "Name: feature, dtype: object\n",
      "son en total:\n",
      "3\n",
      "la respectiva importancia de cada feature al final fue:\n",
      "    importancia    feature\n",
      "31     0.517025    llamada\n",
      "16     0.112479  accidente\n",
      "19     0.076749  lesionado\n",
      "Los hiperparámetros del mejor modelo son:\n",
      "<bound method BaseEstimator.get_params of RandomForestClassifier(max_depth=10, max_features=10, n_estimators=500,\n",
      "                       oob_score=True, random_state=1234)>\n"
     ]
    }
   ],
   "source": [
    "proyecto_1.main()"
   ]
  },
  {
   "cell_type": "code",
   "execution_count": null,
   "metadata": {},
   "outputs": [],
   "source": []
  }
 ],
 "metadata": {
  "kernelspec": {
   "display_name": "proyecto_final_ids_2020",
   "language": "python",
   "name": "proyecto_final_ids_2020"
  },
  "language_info": {
   "codemirror_mode": {
    "name": "ipython",
    "version": 3
   },
   "file_extension": ".py",
   "mimetype": "text/x-python",
   "name": "python",
   "nbconvert_exporter": "python",
   "pygments_lexer": "ipython3",
   "version": "3.8.2"
  }
 },
 "nbformat": 4,
 "nbformat_minor": 4
}
