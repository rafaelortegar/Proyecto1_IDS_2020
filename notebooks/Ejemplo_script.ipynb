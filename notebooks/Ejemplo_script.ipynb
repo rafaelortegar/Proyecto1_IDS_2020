{
 "cells": [
  {
   "cell_type": "code",
   "execution_count": 1,
   "metadata": {},
   "outputs": [],
   "source": [
    "import pandas as pd\n",
    "import pickle"
   ]
  },
  {
   "cell_type": "code",
   "execution_count": 2,
   "metadata": {},
   "outputs": [],
   "source": [
    "import os, sys\n",
    "sys.path.insert(0, os.path.abspath(\"..\"))"
   ]
  },
  {
   "cell_type": "code",
   "execution_count": 3,
   "metadata": {},
   "outputs": [],
   "source": [
    "from src import utils, pipelines, proyecto_1"
   ]
  },
  {
   "cell_type": "code",
   "execution_count": 4,
   "metadata": {},
   "outputs": [
    {
     "name": "stdout",
     "output_type": "stream",
     "text": [
      "Arreglando fechas...\n",
      "13\n",
      "14\n",
      "15\n",
      "16\n",
      "17\n",
      "18\n",
      "19\n",
      "20\n",
      "Arreglando horas...\n"
     ]
    },
    {
     "name": "stderr",
     "output_type": "stream",
     "text": [
      "/home/rafaelortega/.pyenv/versions/proyecto_final_ids_2020/lib/python3.8/site-packages/pandas/core/series.py:4529: SettingWithCopyWarning: \n",
      "A value is trying to be set on a copy of a slice from a DataFrame\n",
      "\n",
      "See the caveats in the documentation: https://pandas.pydata.org/pandas-docs/stable/user_guide/indexing.html#returning-a-view-versus-a-copy\n",
      "  return super().fillna(\n",
      "/home/rafaelortega/.pyenv/versions/proyecto_final_ids_2020/lib/python3.8/site-packages/pandas/core/frame.py:4300: SettingWithCopyWarning: \n",
      "A value is trying to be set on a copy of a slice from a DataFrame\n",
      "\n",
      "See the caveats in the documentation: https://pandas.pydata.org/pandas-docs/stable/user_guide/indexing.html#returning-a-view-versus-a-copy\n",
      "  return super().rename(\n",
      "/home/rafaelortega/Documentos/ids_2020/trabajos_equipo/proyecto_final_ids_2020/src/utils/clean.py:34: SettingWithCopyWarning: \n",
      "A value is trying to be set on a copy of a slice from a DataFrame.\n",
      "Try using .loc[row_indexer,col_indexer] = value instead\n",
      "\n",
      "See the caveats in the documentation: https://pandas.pydata.org/pandas-docs/stable/user_guide/indexing.html#returning-a-view-versus-a-copy\n",
      "  df[col] = df[col].str.lower()\n",
      "/home/rafaelortega/Documentos/ids_2020/trabajos_equipo/proyecto_final_ids_2020/src/utils/clean.py:70: SettingWithCopyWarning: \n",
      "A value is trying to be set on a copy of a slice from a DataFrame.\n",
      "Try using .loc[row_indexer,col_indexer] = value instead\n",
      "\n",
      "See the caveats in the documentation: https://pandas.pydata.org/pandas-docs/stable/user_guide/indexing.html#returning-a-view-versus-a-copy\n",
      "  df[col] = df[col].str.normalize('NFKD').str.encode('ascii', errors='ignore').str.decode('utf-8')\n",
      "/home/rafaelortega/Documentos/ids_2020/trabajos_equipo/proyecto_final_ids_2020/src/utils/clean.py:98: SettingWithCopyWarning: \n",
      "A value is trying to be set on a copy of a slice from a DataFrame.\n",
      "Try using .loc[row_indexer,col_indexer] = value instead\n",
      "\n",
      "See the caveats in the documentation: https://pandas.pydata.org/pandas-docs/stable/user_guide/indexing.html#returning-a-view-versus-a-copy\n",
      "  df[col] = df[col].apply(lambda x: x.strip() if isinstance(x, str) else x)\n",
      "/home/rafaelortega/Documentos/ids_2020/trabajos_equipo/proyecto_final_ids_2020/src/utils/clean.py:127: SettingWithCopyWarning: \n",
      "A value is trying to be set on a copy of a slice from a DataFrame.\n",
      "Try using .loc[row_indexer,col_indexer] = value instead\n",
      "\n",
      "See the caveats in the documentation: https://pandas.pydata.org/pandas-docs/stable/user_guide/indexing.html#returning-a-view-versus-a-copy\n",
      "  df[col] = df[col].apply(lambda x: re.sub(' +', ' ', x) if isinstance(x, str) else x)\n"
     ]
    },
    {
     "name": "stdout",
     "output_type": "stream",
     "text": [
      "Index(['alvaro_obregon', 'azcapotzalco', 'benito_juarez', 'coyoacan',\n",
      "       'cuajimalpa', 'cuauhtemoc', 'gustavo_a_madero', 'iztacalco',\n",
      "       'iztapalapa', 'magdalena_contreras', 'miguel_hidalgo', 'milpa_alta',\n",
      "       'tlahuac', 'tlalpan', 'venustiano_carranza', 'xochimilco', 'accidente',\n",
      "       'cadaver', 'detencion_ciudadana', 'lesionado', 'sismo',\n",
      "       'fecha_creacion', 'hora_creacion', 'dia_semana', 'tipo_entrada', 'mes',\n",
      "       'label', 'sin_hr', 'cos_hr', 'sin_mes', 'cos_mes', 'timestamp_creacion',\n",
      "       'tipo_dia', 'trimestre', 'sin_trim', 'cos_trim', 'llamada'],\n",
      "      dtype='object')\n",
      "comienza modelado de feature selection:\n",
      "Fitting 3 folds for each of 12 candidates, totalling 36 fits\n"
     ]
    },
    {
     "name": "stderr",
     "output_type": "stream",
     "text": [
      "[Parallel(n_jobs=-1)]: Using backend LokyBackend with 8 concurrent workers.\n",
      "[Parallel(n_jobs=-1)]: Done  36 out of  36 | elapsed: 37.7min finished\n"
     ]
    },
    {
     "name": "stdout",
     "output_type": "stream",
     "text": [
      "La lista de variables a mantener es:\n",
      "30      llamada\n",
      "16    accidente\n",
      "Name: feature, dtype: object\n",
      "son en total:\n",
      "2\n",
      "la respectiva importancia de cada feature al final fue:\n",
      "    importancia    feature\n",
      "30     0.536964    llamada\n",
      "16     0.120790  accidente\n",
      "Los hiperparámetros del mejor modelo son:\n",
      "<bound method BaseEstimator.get_params of RandomForestClassifier(max_depth=10, max_features=20, oob_score=True,\n",
      "                       random_state=1234)>\n"
     ]
    }
   ],
   "source": [
    "proyecto_1.main()"
   ]
  },
  {
   "cell_type": "code",
   "execution_count": null,
   "metadata": {},
   "outputs": [],
   "source": []
  }
 ],
 "metadata": {
  "kernelspec": {
   "display_name": "proyecto_final_ids_2020",
   "language": "python",
   "name": "proyecto_final_ids_2020"
  },
  "language_info": {
   "codemirror_mode": {
    "name": "ipython",
    "version": 3
   },
   "file_extension": ".py",
   "mimetype": "text/x-python",
   "name": "python",
   "nbconvert_exporter": "python",
   "pygments_lexer": "ipython3",
   "version": "3.8.2"
  }
 },
 "nbformat": 4,
 "nbformat_minor": 4
}
