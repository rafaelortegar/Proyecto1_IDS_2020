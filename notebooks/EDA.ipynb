{
 "cells": [
  {
   "cell_type": "code",
   "execution_count": 30,
   "metadata": {},
   "outputs": [],
   "source": [
    "import pandas as pd\n",
    "import numpy as np\n",
    "import datetime"
   ]
  },
  {
   "cell_type": "code",
   "execution_count": 2,
   "metadata": {},
   "outputs": [],
   "source": [
    "import os, sys\n",
    "sys.path.insert(0, os.path.abspath(\"..\"))"
   ]
  },
  {
   "cell_type": "code",
   "execution_count": 3,
   "metadata": {},
   "outputs": [],
   "source": [
    "from src.utils import eda"
   ]
  },
  {
   "cell_type": "code",
   "execution_count": 6,
   "metadata": {},
   "outputs": [],
   "source": [
    "df_incidentes = pd.read_csv('../data/incidentes-viales-c5.csv')"
   ]
  },
  {
   "cell_type": "code",
   "execution_count": 7,
   "metadata": {},
   "outputs": [
    {
     "data": {
      "text/html": [
       "<div>\n",
       "<style scoped>\n",
       "    .dataframe tbody tr th:only-of-type {\n",
       "        vertical-align: middle;\n",
       "    }\n",
       "\n",
       "    .dataframe tbody tr th {\n",
       "        vertical-align: top;\n",
       "    }\n",
       "\n",
       "    .dataframe thead th {\n",
       "        text-align: right;\n",
       "    }\n",
       "</style>\n",
       "<table border=\"1\" class=\"dataframe\">\n",
       "  <thead>\n",
       "    <tr style=\"text-align: right;\">\n",
       "      <th></th>\n",
       "      <th>folio</th>\n",
       "      <th>fecha_creacion</th>\n",
       "      <th>hora_creacion</th>\n",
       "      <th>dia_semana</th>\n",
       "      <th>codigo_cierre</th>\n",
       "      <th>fecha_cierre</th>\n",
       "      <th>año_cierre</th>\n",
       "      <th>mes_cierre</th>\n",
       "      <th>hora_cierre</th>\n",
       "      <th>delegacion_inicio</th>\n",
       "      <th>incidente_c4</th>\n",
       "      <th>latitud</th>\n",
       "      <th>longitud</th>\n",
       "      <th>clas_con_f_alarma</th>\n",
       "      <th>tipo_entrada</th>\n",
       "      <th>delegacion_cierre</th>\n",
       "      <th>geopoint</th>\n",
       "      <th>mes</th>\n",
       "    </tr>\n",
       "  </thead>\n",
       "  <tbody>\n",
       "    <tr>\n",
       "      <th>518226</th>\n",
       "      <td>C4/140219/01029</td>\n",
       "      <td>19/02/2014</td>\n",
       "      <td>11:22:27</td>\n",
       "      <td>Miércoles</td>\n",
       "      <td>(A) La unidad de atención a emergencias fue de...</td>\n",
       "      <td>19/02/2014</td>\n",
       "      <td>2014</td>\n",
       "      <td>Febrero</td>\n",
       "      <td>11:40:24</td>\n",
       "      <td>IZTAPALAPA</td>\n",
       "      <td>accidente-choque sin lesionados</td>\n",
       "      <td>19.37887</td>\n",
       "      <td>-99.07733</td>\n",
       "      <td>EMERGENCIA</td>\n",
       "      <td>LLAMADA DEL 066</td>\n",
       "      <td>IZTAPALAPA</td>\n",
       "      <td>19.37887,-99.07733</td>\n",
       "      <td>2</td>\n",
       "    </tr>\n",
       "  </tbody>\n",
       "</table>\n",
       "</div>"
      ],
      "text/plain": [
       "                  folio fecha_creacion hora_creacion dia_semana  \\\n",
       "518226  C4/140219/01029     19/02/2014      11:22:27  Miércoles   \n",
       "\n",
       "                                            codigo_cierre fecha_cierre  \\\n",
       "518226  (A) La unidad de atención a emergencias fue de...   19/02/2014   \n",
       "\n",
       "        año_cierre mes_cierre hora_cierre delegacion_inicio  \\\n",
       "518226        2014    Febrero    11:40:24        IZTAPALAPA   \n",
       "\n",
       "                           incidente_c4   latitud  longitud clas_con_f_alarma  \\\n",
       "518226  accidente-choque sin lesionados  19.37887 -99.07733        EMERGENCIA   \n",
       "\n",
       "           tipo_entrada delegacion_cierre            geopoint  mes  \n",
       "518226  LLAMADA DEL 066        IZTAPALAPA  19.37887,-99.07733    2  "
      ]
     },
     "execution_count": 7,
     "metadata": {},
     "output_type": "execute_result"
    }
   ],
   "source": [
    "df_incidentes.sample()"
   ]
  },
  {
   "cell_type": "code",
   "execution_count": 10,
   "metadata": {},
   "outputs": [
    {
     "data": {
      "text/plain": [
       "1383138"
      ]
     },
     "execution_count": 10,
     "metadata": {},
     "output_type": "execute_result"
    }
   ],
   "source": [
    "len(df_incidentes)"
   ]
  },
  {
   "cell_type": "markdown",
   "metadata": {},
   "source": [
    "Se tienen 1,383,138 registros de incidentes viales en la ciudad de México."
   ]
  },
  {
   "cell_type": "code",
   "execution_count": 8,
   "metadata": {},
   "outputs": [
    {
     "data": {
      "text/plain": [
       "1383138"
      ]
     },
     "execution_count": 8,
     "metadata": {},
     "output_type": "execute_result"
    }
   ],
   "source": [
    "df_incidentes['folio'].nunique()"
   ]
  },
  {
   "cell_type": "markdown",
   "metadata": {},
   "source": [
    "El folio efectivamente identifica a cada renglón con un valor único."
   ]
  },
  {
   "cell_type": "code",
   "execution_count": 11,
   "metadata": {},
   "outputs": [
    {
     "data": {
      "text/plain": [
       "18"
      ]
     },
     "execution_count": 11,
     "metadata": {},
     "output_type": "execute_result"
    }
   ],
   "source": [
    "len(df_incidentes.columns)"
   ]
  },
  {
   "cell_type": "markdown",
   "metadata": {},
   "source": [
    "Se tienen 18 columnas o variables, las cuales son:"
   ]
  },
  {
   "cell_type": "code",
   "execution_count": 12,
   "metadata": {},
   "outputs": [
    {
     "data": {
      "text/plain": [
       "['folio',\n",
       " 'fecha_creacion',\n",
       " 'hora_creacion',\n",
       " 'dia_semana',\n",
       " 'codigo_cierre',\n",
       " 'fecha_cierre',\n",
       " 'año_cierre',\n",
       " 'mes_cierre',\n",
       " 'hora_cierre',\n",
       " 'delegacion_inicio',\n",
       " 'incidente_c4',\n",
       " 'latitud',\n",
       " 'longitud',\n",
       " 'clas_con_f_alarma',\n",
       " 'tipo_entrada',\n",
       " 'delegacion_cierre',\n",
       " 'geopoint',\n",
       " 'mes']"
      ]
     },
     "execution_count": 12,
     "metadata": {},
     "output_type": "execute_result"
    }
   ],
   "source": [
    "list(df_incidentes.columns)"
   ]
  },
  {
   "cell_type": "markdown",
   "metadata": {},
   "source": [
    "Los tipos de dato que tiene cada variable inicialmente son:"
   ]
  },
  {
   "cell_type": "code",
   "execution_count": 13,
   "metadata": {},
   "outputs": [
    {
     "data": {
      "text/plain": [
       "folio                 object\n",
       "fecha_creacion        object\n",
       "hora_creacion         object\n",
       "dia_semana            object\n",
       "codigo_cierre         object\n",
       "fecha_cierre          object\n",
       "año_cierre             int64\n",
       "mes_cierre            object\n",
       "hora_cierre           object\n",
       "delegacion_inicio     object\n",
       "incidente_c4          object\n",
       "latitud              float64\n",
       "longitud             float64\n",
       "clas_con_f_alarma     object\n",
       "tipo_entrada          object\n",
       "delegacion_cierre     object\n",
       "geopoint              object\n",
       "mes                    int64\n",
       "dtype: object"
      ]
     },
     "execution_count": 13,
     "metadata": {},
     "output_type": "execute_result"
    }
   ],
   "source": [
    "df_incidentes.dtypes"
   ]
  },
  {
   "cell_type": "markdown",
   "metadata": {},
   "source": [
    "## Perfilamiento general"
   ]
  },
  {
   "cell_type": "code",
   "execution_count": 14,
   "metadata": {},
   "outputs": [
    {
     "name": "stdout",
     "output_type": "stream",
     "text": [
      "El dataframe tiene 18 columnas.\n",
      "Hay 5 columnas que tienen NA's.\n"
     ]
    },
    {
     "data": {
      "text/html": [
       "<div>\n",
       "<style scoped>\n",
       "    .dataframe tbody tr th:only-of-type {\n",
       "        vertical-align: middle;\n",
       "    }\n",
       "\n",
       "    .dataframe tbody tr th {\n",
       "        vertical-align: top;\n",
       "    }\n",
       "\n",
       "    .dataframe thead th {\n",
       "        text-align: right;\n",
       "    }\n",
       "</style>\n",
       "<table border=\"1\" class=\"dataframe\">\n",
       "  <thead>\n",
       "    <tr style=\"text-align: right;\">\n",
       "      <th></th>\n",
       "      <th>Estadisticas</th>\n",
       "      <th>Resultado</th>\n",
       "    </tr>\n",
       "  </thead>\n",
       "  <tbody>\n",
       "    <tr>\n",
       "      <th>0</th>\n",
       "      <td>Total de variables</td>\n",
       "      <td>18</td>\n",
       "    </tr>\n",
       "    <tr>\n",
       "      <th>1</th>\n",
       "      <td>Conteo de observaciones</td>\n",
       "      <td>1383138</td>\n",
       "    </tr>\n",
       "    <tr>\n",
       "      <th>2</th>\n",
       "      <td>Total de celdas</td>\n",
       "      <td>24896484</td>\n",
       "    </tr>\n",
       "    <tr>\n",
       "      <th>3</th>\n",
       "      <td>Cantidad de variables numericas</td>\n",
       "      <td>4</td>\n",
       "    </tr>\n",
       "    <tr>\n",
       "      <th>4</th>\n",
       "      <td>Cantidad de variables de fecha</td>\n",
       "      <td>0</td>\n",
       "    </tr>\n",
       "    <tr>\n",
       "      <th>5</th>\n",
       "      <td>Cantidad de variables categóricas</td>\n",
       "      <td>0</td>\n",
       "    </tr>\n",
       "    <tr>\n",
       "      <th>6</th>\n",
       "      <td>Cantidad de variables de texto</td>\n",
       "      <td>14</td>\n",
       "    </tr>\n",
       "    <tr>\n",
       "      <th>7</th>\n",
       "      <td>Valores faltantes</td>\n",
       "      <td>1622</td>\n",
       "    </tr>\n",
       "    <tr>\n",
       "      <th>8</th>\n",
       "      <td>Porcentaje de valores faltantes</td>\n",
       "      <td>0.0%</td>\n",
       "    </tr>\n",
       "    <tr>\n",
       "      <th>9</th>\n",
       "      <td>Renglones duplicados</td>\n",
       "      <td>0</td>\n",
       "    </tr>\n",
       "    <tr>\n",
       "      <th>10</th>\n",
       "      <td>Porcentaje de valores duplicados</td>\n",
       "      <td>0.0%</td>\n",
       "    </tr>\n",
       "  </tbody>\n",
       "</table>\n",
       "</div>"
      ],
      "text/plain": [
       "                         Estadisticas Resultado\n",
       "0                  Total de variables        18\n",
       "1             Conteo de observaciones   1383138\n",
       "2                     Total de celdas  24896484\n",
       "3     Cantidad de variables numericas         4\n",
       "4      Cantidad de variables de fecha         0\n",
       "5   Cantidad de variables categóricas         0\n",
       "6      Cantidad de variables de texto        14\n",
       "7                   Valores faltantes      1622\n",
       "8     Porcentaje de valores faltantes      0.0%\n",
       "9                Renglones duplicados         0\n",
       "10   Porcentaje de valores duplicados      0.0%"
      ]
     },
     "execution_count": 14,
     "metadata": {},
     "output_type": "execute_result"
    }
   ],
   "source": [
    "eda.genera_profiling_general(df_incidentes)"
   ]
  },
  {
   "cell_type": "markdown",
   "metadata": {},
   "source": [
    "En la base de datos, tenemos alrededor de 1,622 elementos faltantes, distribuidos de la siguiente forma:"
   ]
  },
  {
   "cell_type": "code",
   "execution_count": 15,
   "metadata": {},
   "outputs": [
    {
     "name": "stdout",
     "output_type": "stream",
     "text": [
      "El dataframe tiene 18 columnas.\n",
      "Hay 5 columnas que tienen NA's.\n"
     ]
    },
    {
     "data": {
      "text/html": [
       "<div>\n",
       "<style scoped>\n",
       "    .dataframe tbody tr th:only-of-type {\n",
       "        vertical-align: middle;\n",
       "    }\n",
       "\n",
       "    .dataframe tbody tr th {\n",
       "        vertical-align: top;\n",
       "    }\n",
       "\n",
       "    .dataframe thead th {\n",
       "        text-align: right;\n",
       "    }\n",
       "</style>\n",
       "<table border=\"1\" class=\"dataframe\">\n",
       "  <thead>\n",
       "    <tr style=\"text-align: right;\">\n",
       "      <th></th>\n",
       "      <th>Missing Values</th>\n",
       "      <th>% del Total</th>\n",
       "    </tr>\n",
       "  </thead>\n",
       "  <tbody>\n",
       "    <tr>\n",
       "      <th>geopoint</th>\n",
       "      <td>446</td>\n",
       "      <td>0.0</td>\n",
       "    </tr>\n",
       "    <tr>\n",
       "      <th>latitud</th>\n",
       "      <td>443</td>\n",
       "      <td>0.0</td>\n",
       "    </tr>\n",
       "    <tr>\n",
       "      <th>longitud</th>\n",
       "      <td>435</td>\n",
       "      <td>0.0</td>\n",
       "    </tr>\n",
       "    <tr>\n",
       "      <th>delegacion_inicio</th>\n",
       "      <td>158</td>\n",
       "      <td>0.0</td>\n",
       "    </tr>\n",
       "    <tr>\n",
       "      <th>delegacion_cierre</th>\n",
       "      <td>140</td>\n",
       "      <td>0.0</td>\n",
       "    </tr>\n",
       "  </tbody>\n",
       "</table>\n",
       "</div>"
      ],
      "text/plain": [
       "                   Missing Values  % del Total\n",
       "geopoint                      446          0.0\n",
       "latitud                       443          0.0\n",
       "longitud                      435          0.0\n",
       "delegacion_inicio             158          0.0\n",
       "delegacion_cierre             140          0.0"
      ]
     },
     "execution_count": 15,
     "metadata": {},
     "output_type": "execute_result"
    }
   ],
   "source": [
    "eda.cuenta_nulos_por_columnas(df_incidentes)"
   ]
  },
  {
   "cell_type": "markdown",
   "metadata": {},
   "source": [
    "En cuanto a los tipos de datos, están de la siguiente forma:"
   ]
  },
  {
   "cell_type": "code",
   "execution_count": 16,
   "metadata": {},
   "outputs": [
    {
     "data": {
      "text/plain": [
       "folio                 object\n",
       "fecha_creacion        object\n",
       "hora_creacion         object\n",
       "dia_semana            object\n",
       "codigo_cierre         object\n",
       "fecha_cierre          object\n",
       "año_cierre             int64\n",
       "mes_cierre            object\n",
       "hora_cierre           object\n",
       "delegacion_inicio     object\n",
       "incidente_c4          object\n",
       "latitud              float64\n",
       "longitud             float64\n",
       "clas_con_f_alarma     object\n",
       "tipo_entrada          object\n",
       "delegacion_cierre     object\n",
       "geopoint              object\n",
       "mes                    int64\n",
       "dtype: object"
      ]
     },
     "execution_count": 16,
     "metadata": {},
     "output_type": "execute_result"
    }
   ],
   "source": [
    "df_incidentes.dtypes"
   ]
  },
  {
   "cell_type": "markdown",
   "metadata": {},
   "source": [
    "folio                 object --> Object  \n",
    "fecha_creacion        object --> Date  \n",
    "hora_creacion         object --> Date  \n",
    "dia_semana            object --> Category  \n",
    "codigo_cierre         object --> Category  \n",
    "fecha_cierre          object --> Date  \n",
    "año_cierre             int64 --> Category  \n",
    "mes_cierre            object --> Category  \n",
    "hora_cierre           object --> Date  \n",
    "delegacion_inicio     object --> Category  \n",
    "incidente_c4          object --> Category  \n",
    "latitud              float64 --> float  \n",
    "longitud             float64 --> float  \n",
    "clas_con_f_alarma     object --> Category  \n",
    "tipo_entrada          object --> Category  \n",
    "delegacion_cierre     object --> Category  \n",
    "geopoint              object --> Object  \n",
    "mes                    int64 --> Category  "
   ]
  },
  {
   "cell_type": "markdown",
   "metadata": {},
   "source": [
    "Primero, arreglamos los strings en las fechas:"
   ]
  },
  {
   "cell_type": "code",
   "execution_count": 20,
   "metadata": {},
   "outputs": [
    {
     "name": "stdout",
     "output_type": "stream",
     "text": [
      "13\n",
      "14\n",
      "15\n",
      "16\n",
      "17\n",
      "18\n",
      "19\n",
      "20\n"
     ]
    }
   ],
   "source": [
    "# fix Dates\n",
    "for ano in range(2013,2021):\n",
    "    string_correccion_ano = str(ano)\n",
    "    string_correccion_ano=string_correccion_ano[-2:]\n",
    "    print(string_correccion_ano)\n",
    "    \n",
    "    for mes in range (1,13):\n",
    "        if(mes<10):\n",
    "            string_correccion_mes = '0'+str(mes)\n",
    "        else:\n",
    "            string_correccion_mes = str(mes)\n",
    "            \n",
    "        for dia in range(1, 32):\n",
    "            elemento = dia\n",
    "\n",
    "            if(elemento<10):\n",
    "                string_correccion = '0'+str(dia)+'/'+string_correccion_mes+'/'+string_correccion_ano\n",
    "                string_correcto = '0'+str(dia)+'/'+string_correccion_mes+'/20'+string_correccion_ano\n",
    "            else:\n",
    "                string_correccion = str(dia)+'/'+string_correccion_mes+'/'+string_correccion_ano\n",
    "                string_correcto = str(dia)+'/'+string_correccion_mes+'/20'+string_correccion_ano\n",
    "            #print(string_correccion)\n",
    "            df_incidentes.loc[df_incidentes[\"fecha_creacion\"] == string_correccion, \"fecha_creacion\"] = string_correcto\n",
    "            df_incidentes.loc[df_incidentes[\"fecha_cierre\"] == string_correccion, \"fecha_cierre\"] = string_correcto"
   ]
  },
  {
   "cell_type": "code",
   "execution_count": 21,
   "metadata": {},
   "outputs": [],
   "source": [
    "# Convertir columna en datetime \n",
    "df_incidentes['fecha_creacion']=pd.to_datetime(df_incidentes['fecha_creacion'], format='%d/%m/%Y')\n",
    "df_incidentes['fecha_cierre']=pd.to_datetime(df_incidentes['fecha_cierre'], format='%d/%m/%Y')"
   ]
  },
  {
   "cell_type": "markdown",
   "metadata": {},
   "source": [
    "Ahora, corregimos las horas de creación y de cierre."
   ]
  },
  {
   "cell_type": "code",
   "execution_count": 22,
   "metadata": {},
   "outputs": [
    {
     "data": {
      "text/plain": [
       "array(['22:35:04', '22:50:49', '09:40:11', ..., '0.986863426',\n",
       "       '0.996238426', '04:33:05'], dtype=object)"
      ]
     },
     "execution_count": 22,
     "metadata": {},
     "output_type": "execute_result"
    }
   ],
   "source": [
    "df_incidentes['hora_creacion'].unique()"
   ]
  },
  {
   "cell_type": "code",
   "execution_count": 23,
   "metadata": {},
   "outputs": [
    {
     "data": {
      "text/plain": [
       "'0.000138889'"
      ]
     },
     "execution_count": 23,
     "metadata": {},
     "output_type": "execute_result"
    }
   ],
   "source": [
    "df_incidentes['hora_creacion'].min()"
   ]
  },
  {
   "cell_type": "code",
   "execution_count": 24,
   "metadata": {},
   "outputs": [],
   "source": [
    "df_hrs_raras = df_incidentes.loc[~df_incidentes[\"hora_creacion\"].str.contains(':', case=False, na=None)]"
   ]
  },
  {
   "cell_type": "code",
   "execution_count": 25,
   "metadata": {},
   "outputs": [
    {
     "data": {
      "text/html": [
       "<div>\n",
       "<style scoped>\n",
       "    .dataframe tbody tr th:only-of-type {\n",
       "        vertical-align: middle;\n",
       "    }\n",
       "\n",
       "    .dataframe tbody tr th {\n",
       "        vertical-align: top;\n",
       "    }\n",
       "\n",
       "    .dataframe thead th {\n",
       "        text-align: right;\n",
       "    }\n",
       "</style>\n",
       "<table border=\"1\" class=\"dataframe\">\n",
       "  <thead>\n",
       "    <tr style=\"text-align: right;\">\n",
       "      <th></th>\n",
       "      <th>folio</th>\n",
       "      <th>fecha_creacion</th>\n",
       "      <th>hora_creacion</th>\n",
       "      <th>dia_semana</th>\n",
       "      <th>codigo_cierre</th>\n",
       "      <th>fecha_cierre</th>\n",
       "      <th>año_cierre</th>\n",
       "      <th>mes_cierre</th>\n",
       "      <th>hora_cierre</th>\n",
       "      <th>delegacion_inicio</th>\n",
       "      <th>incidente_c4</th>\n",
       "      <th>latitud</th>\n",
       "      <th>longitud</th>\n",
       "      <th>clas_con_f_alarma</th>\n",
       "      <th>tipo_entrada</th>\n",
       "      <th>delegacion_cierre</th>\n",
       "      <th>geopoint</th>\n",
       "      <th>mes</th>\n",
       "    </tr>\n",
       "  </thead>\n",
       "  <tbody>\n",
       "    <tr>\n",
       "      <th>831339</th>\n",
       "      <td>C5/200217/09463</td>\n",
       "      <td>2020-02-17</td>\n",
       "      <td>0.985266204</td>\n",
       "      <td>Lunes</td>\n",
       "      <td>(A) La unidad de atención a emergencias fue de...</td>\n",
       "      <td>2020-02-18</td>\n",
       "      <td>2020</td>\n",
       "      <td>Febrero</td>\n",
       "      <td>0.147476852</td>\n",
       "      <td>MIGUEL HIDALGO</td>\n",
       "      <td>accidente-choque sin lesionados</td>\n",
       "      <td>19.45393</td>\n",
       "      <td>-99.19447</td>\n",
       "      <td>EMERGENCIA</td>\n",
       "      <td>LLAMADA DEL 911</td>\n",
       "      <td>MIGUEL HIDALGO</td>\n",
       "      <td>19.45393002,-99.19446984</td>\n",
       "      <td>2</td>\n",
       "    </tr>\n",
       "    <tr>\n",
       "      <th>831341</th>\n",
       "      <td>C5/200218/03696</td>\n",
       "      <td>2020-02-18</td>\n",
       "      <td>0.53494213</td>\n",
       "      <td>Martes</td>\n",
       "      <td>(A) La unidad de atención a emergencias fue de...</td>\n",
       "      <td>2020-02-18</td>\n",
       "      <td>2020</td>\n",
       "      <td>Febrero</td>\n",
       "      <td>0.592511574</td>\n",
       "      <td>AZCAPOTZALCO</td>\n",
       "      <td>lesionado-atropellado</td>\n",
       "      <td>19.49486</td>\n",
       "      <td>-99.19591</td>\n",
       "      <td>URGENCIAS MEDICAS</td>\n",
       "      <td>LLAMADA DEL 911</td>\n",
       "      <td>AZCAPOTZALCO</td>\n",
       "      <td>19.49486004,-99.19590984</td>\n",
       "      <td>2</td>\n",
       "    </tr>\n",
       "  </tbody>\n",
       "</table>\n",
       "</div>"
      ],
      "text/plain": [
       "                  folio fecha_creacion hora_creacion dia_semana  \\\n",
       "831339  C5/200217/09463     2020-02-17   0.985266204      Lunes   \n",
       "831341  C5/200218/03696     2020-02-18    0.53494213     Martes   \n",
       "\n",
       "                                            codigo_cierre fecha_cierre  \\\n",
       "831339  (A) La unidad de atención a emergencias fue de...   2020-02-18   \n",
       "831341  (A) La unidad de atención a emergencias fue de...   2020-02-18   \n",
       "\n",
       "        año_cierre mes_cierre  hora_cierre delegacion_inicio  \\\n",
       "831339        2020    Febrero  0.147476852    MIGUEL HIDALGO   \n",
       "831341        2020    Febrero  0.592511574      AZCAPOTZALCO   \n",
       "\n",
       "                           incidente_c4   latitud  longitud  \\\n",
       "831339  accidente-choque sin lesionados  19.45393 -99.19447   \n",
       "831341            lesionado-atropellado  19.49486 -99.19591   \n",
       "\n",
       "        clas_con_f_alarma     tipo_entrada delegacion_cierre  \\\n",
       "831339         EMERGENCIA  LLAMADA DEL 911    MIGUEL HIDALGO   \n",
       "831341  URGENCIAS MEDICAS  LLAMADA DEL 911      AZCAPOTZALCO   \n",
       "\n",
       "                        geopoint  mes  \n",
       "831339  19.45393002,-99.19446984    2  \n",
       "831341  19.49486004,-99.19590984    2  "
      ]
     },
     "execution_count": 25,
     "metadata": {},
     "output_type": "execute_result"
    }
   ],
   "source": [
    "df_hrs_raras.head(2)"
   ]
  },
  {
   "cell_type": "code",
   "execution_count": 26,
   "metadata": {},
   "outputs": [
    {
     "data": {
      "text/plain": [
       "1544"
      ]
     },
     "execution_count": 26,
     "metadata": {},
     "output_type": "execute_result"
    }
   ],
   "source": [
    "len(df_hrs_raras)"
   ]
  },
  {
   "cell_type": "code",
   "execution_count": 27,
   "metadata": {},
   "outputs": [],
   "source": [
    "hrs_raras = df_hrs_raras['hora_creacion']"
   ]
  },
  {
   "cell_type": "code",
   "execution_count": 28,
   "metadata": {},
   "outputs": [
    {
     "data": {
      "text/plain": [
       "831339     0.985266204\n",
       "831341      0.53494213\n",
       "831343     0.366539352\n",
       "831345      0.51306713\n",
       "831347     0.541273148\n",
       "              ...     \n",
       "1382352    0.921678241\n",
       "1382353    0.967268519\n",
       "1382354    0.976018519\n",
       "1382355    0.986863426\n",
       "1382356    0.996238426\n",
       "Name: hora_creacion, Length: 1544, dtype: object"
      ]
     },
     "execution_count": 28,
     "metadata": {},
     "output_type": "execute_result"
    }
   ],
   "source": [
    "hrs_raras"
   ]
  },
  {
   "cell_type": "code",
   "execution_count": 31,
   "metadata": {},
   "outputs": [
    {
     "name": "stdout",
     "output_type": "stream",
     "text": [
      "23:38:47.000026\n"
     ]
    }
   ],
   "source": [
    "print(datetime.timedelta(days=0.985266204))"
   ]
  },
  {
   "cell_type": "code",
   "execution_count": 32,
   "metadata": {},
   "outputs": [
    {
     "name": "stdout",
     "output_type": "stream",
     "text": [
      "23:38:47.000026\n"
     ]
    }
   ],
   "source": [
    "print(datetime.timedelta(days=float(list(hrs_raras)[0])))"
   ]
  },
  {
   "cell_type": "code",
   "execution_count": 33,
   "metadata": {},
   "outputs": [
    {
     "data": {
      "text/plain": [
       "datetime.timedelta(seconds=85127, microseconds=26)"
      ]
     },
     "execution_count": 33,
     "metadata": {},
     "output_type": "execute_result"
    }
   ],
   "source": [
    "datetime.timedelta(days=float(list(hrs_raras)[0]))"
   ]
  },
  {
   "cell_type": "code",
   "execution_count": 34,
   "metadata": {},
   "outputs": [],
   "source": [
    "hrs_raras = hrs_raras.astype('float')\n",
    "hours = [datetime.timedelta(days=float(num)) for num in hrs_raras]"
   ]
  },
  {
   "cell_type": "code",
   "execution_count": 35,
   "metadata": {},
   "outputs": [],
   "source": [
    "data_hr_corregida = {'folio':df_hrs_raras['folio'],'hora_creacion':df_hrs_raras['hora_creacion'],'hora_creacion_corregida':hours}"
   ]
  },
  {
   "cell_type": "code",
   "execution_count": 36,
   "metadata": {},
   "outputs": [],
   "source": [
    "dataframe_hrcorregida = pd.DataFrame(data=data_hr_corregida)"
   ]
  },
  {
   "cell_type": "code",
   "execution_count": 37,
   "metadata": {},
   "outputs": [],
   "source": [
    "dataframe_hrcorregida = df_hrs_raras.copy()\n",
    "dataframe_hrcorregida['hora_creacion_corregida'] = hours"
   ]
  },
  {
   "cell_type": "code",
   "execution_count": 38,
   "metadata": {},
   "outputs": [
    {
     "data": {
      "text/html": [
       "<div>\n",
       "<style scoped>\n",
       "    .dataframe tbody tr th:only-of-type {\n",
       "        vertical-align: middle;\n",
       "    }\n",
       "\n",
       "    .dataframe tbody tr th {\n",
       "        vertical-align: top;\n",
       "    }\n",
       "\n",
       "    .dataframe thead th {\n",
       "        text-align: right;\n",
       "    }\n",
       "</style>\n",
       "<table border=\"1\" class=\"dataframe\">\n",
       "  <thead>\n",
       "    <tr style=\"text-align: right;\">\n",
       "      <th></th>\n",
       "      <th>folio</th>\n",
       "      <th>fecha_creacion</th>\n",
       "      <th>hora_creacion</th>\n",
       "      <th>dia_semana</th>\n",
       "      <th>codigo_cierre</th>\n",
       "      <th>fecha_cierre</th>\n",
       "      <th>año_cierre</th>\n",
       "      <th>mes_cierre</th>\n",
       "      <th>hora_cierre</th>\n",
       "      <th>delegacion_inicio</th>\n",
       "      <th>incidente_c4</th>\n",
       "      <th>latitud</th>\n",
       "      <th>longitud</th>\n",
       "      <th>clas_con_f_alarma</th>\n",
       "      <th>tipo_entrada</th>\n",
       "      <th>delegacion_cierre</th>\n",
       "      <th>geopoint</th>\n",
       "      <th>mes</th>\n",
       "      <th>hora_creacion_corregida</th>\n",
       "    </tr>\n",
       "  </thead>\n",
       "  <tbody>\n",
       "    <tr>\n",
       "      <th>831339</th>\n",
       "      <td>C5/200217/09463</td>\n",
       "      <td>2020-02-17</td>\n",
       "      <td>0.985266204</td>\n",
       "      <td>Lunes</td>\n",
       "      <td>(A) La unidad de atención a emergencias fue de...</td>\n",
       "      <td>2020-02-18</td>\n",
       "      <td>2020</td>\n",
       "      <td>Febrero</td>\n",
       "      <td>0.147476852</td>\n",
       "      <td>MIGUEL HIDALGO</td>\n",
       "      <td>accidente-choque sin lesionados</td>\n",
       "      <td>19.45393</td>\n",
       "      <td>-99.19447</td>\n",
       "      <td>EMERGENCIA</td>\n",
       "      <td>LLAMADA DEL 911</td>\n",
       "      <td>MIGUEL HIDALGO</td>\n",
       "      <td>19.45393002,-99.19446984</td>\n",
       "      <td>2</td>\n",
       "      <td>0 days 23:38:47.000026</td>\n",
       "    </tr>\n",
       "    <tr>\n",
       "      <th>831341</th>\n",
       "      <td>C5/200218/03696</td>\n",
       "      <td>2020-02-18</td>\n",
       "      <td>0.53494213</td>\n",
       "      <td>Martes</td>\n",
       "      <td>(A) La unidad de atención a emergencias fue de...</td>\n",
       "      <td>2020-02-18</td>\n",
       "      <td>2020</td>\n",
       "      <td>Febrero</td>\n",
       "      <td>0.592511574</td>\n",
       "      <td>AZCAPOTZALCO</td>\n",
       "      <td>lesionado-atropellado</td>\n",
       "      <td>19.49486</td>\n",
       "      <td>-99.19591</td>\n",
       "      <td>URGENCIAS MEDICAS</td>\n",
       "      <td>LLAMADA DEL 911</td>\n",
       "      <td>AZCAPOTZALCO</td>\n",
       "      <td>19.49486004,-99.19590984</td>\n",
       "      <td>2</td>\n",
       "      <td>0 days 12:50:19.000032</td>\n",
       "    </tr>\n",
       "  </tbody>\n",
       "</table>\n",
       "</div>"
      ],
      "text/plain": [
       "                  folio fecha_creacion hora_creacion dia_semana  \\\n",
       "831339  C5/200217/09463     2020-02-17   0.985266204      Lunes   \n",
       "831341  C5/200218/03696     2020-02-18    0.53494213     Martes   \n",
       "\n",
       "                                            codigo_cierre fecha_cierre  \\\n",
       "831339  (A) La unidad de atención a emergencias fue de...   2020-02-18   \n",
       "831341  (A) La unidad de atención a emergencias fue de...   2020-02-18   \n",
       "\n",
       "        año_cierre mes_cierre  hora_cierre delegacion_inicio  \\\n",
       "831339        2020    Febrero  0.147476852    MIGUEL HIDALGO   \n",
       "831341        2020    Febrero  0.592511574      AZCAPOTZALCO   \n",
       "\n",
       "                           incidente_c4   latitud  longitud  \\\n",
       "831339  accidente-choque sin lesionados  19.45393 -99.19447   \n",
       "831341            lesionado-atropellado  19.49486 -99.19591   \n",
       "\n",
       "        clas_con_f_alarma     tipo_entrada delegacion_cierre  \\\n",
       "831339         EMERGENCIA  LLAMADA DEL 911    MIGUEL HIDALGO   \n",
       "831341  URGENCIAS MEDICAS  LLAMADA DEL 911      AZCAPOTZALCO   \n",
       "\n",
       "                        geopoint  mes hora_creacion_corregida  \n",
       "831339  19.45393002,-99.19446984    2  0 days 23:38:47.000026  \n",
       "831341  19.49486004,-99.19590984    2  0 days 12:50:19.000032  "
      ]
     },
     "execution_count": 38,
     "metadata": {},
     "output_type": "execute_result"
    }
   ],
   "source": [
    "dataframe_hrcorregida.head(2)"
   ]
  },
  {
   "cell_type": "code",
   "execution_count": 39,
   "metadata": {},
   "outputs": [],
   "source": [
    "# Eliminamos microsegundos\n",
    "dataframe_hrcorregida['hora_creacion_corregida']= dataframe_hrcorregida['hora_creacion_corregida'].dt.floor('s')"
   ]
  },
  {
   "cell_type": "code",
   "execution_count": 40,
   "metadata": {},
   "outputs": [
    {
     "data": {
      "text/html": [
       "<div>\n",
       "<style scoped>\n",
       "    .dataframe tbody tr th:only-of-type {\n",
       "        vertical-align: middle;\n",
       "    }\n",
       "\n",
       "    .dataframe tbody tr th {\n",
       "        vertical-align: top;\n",
       "    }\n",
       "\n",
       "    .dataframe thead th {\n",
       "        text-align: right;\n",
       "    }\n",
       "</style>\n",
       "<table border=\"1\" class=\"dataframe\">\n",
       "  <thead>\n",
       "    <tr style=\"text-align: right;\">\n",
       "      <th></th>\n",
       "      <th>folio</th>\n",
       "      <th>fecha_creacion</th>\n",
       "      <th>hora_creacion</th>\n",
       "      <th>dia_semana</th>\n",
       "      <th>codigo_cierre</th>\n",
       "      <th>fecha_cierre</th>\n",
       "      <th>año_cierre</th>\n",
       "      <th>mes_cierre</th>\n",
       "      <th>hora_cierre</th>\n",
       "      <th>delegacion_inicio</th>\n",
       "      <th>incidente_c4</th>\n",
       "      <th>latitud</th>\n",
       "      <th>longitud</th>\n",
       "      <th>clas_con_f_alarma</th>\n",
       "      <th>tipo_entrada</th>\n",
       "      <th>delegacion_cierre</th>\n",
       "      <th>geopoint</th>\n",
       "      <th>mes</th>\n",
       "      <th>hora_creacion_corregida</th>\n",
       "    </tr>\n",
       "  </thead>\n",
       "  <tbody>\n",
       "    <tr>\n",
       "      <th>831339</th>\n",
       "      <td>C5/200217/09463</td>\n",
       "      <td>2020-02-17</td>\n",
       "      <td>0.985266204</td>\n",
       "      <td>Lunes</td>\n",
       "      <td>(A) La unidad de atención a emergencias fue de...</td>\n",
       "      <td>2020-02-18</td>\n",
       "      <td>2020</td>\n",
       "      <td>Febrero</td>\n",
       "      <td>0.147476852</td>\n",
       "      <td>MIGUEL HIDALGO</td>\n",
       "      <td>accidente-choque sin lesionados</td>\n",
       "      <td>19.45393</td>\n",
       "      <td>-99.19447</td>\n",
       "      <td>EMERGENCIA</td>\n",
       "      <td>LLAMADA DEL 911</td>\n",
       "      <td>MIGUEL HIDALGO</td>\n",
       "      <td>19.45393002,-99.19446984</td>\n",
       "      <td>2</td>\n",
       "      <td>0 days 23:38:47</td>\n",
       "    </tr>\n",
       "    <tr>\n",
       "      <th>831341</th>\n",
       "      <td>C5/200218/03696</td>\n",
       "      <td>2020-02-18</td>\n",
       "      <td>0.53494213</td>\n",
       "      <td>Martes</td>\n",
       "      <td>(A) La unidad de atención a emergencias fue de...</td>\n",
       "      <td>2020-02-18</td>\n",
       "      <td>2020</td>\n",
       "      <td>Febrero</td>\n",
       "      <td>0.592511574</td>\n",
       "      <td>AZCAPOTZALCO</td>\n",
       "      <td>lesionado-atropellado</td>\n",
       "      <td>19.49486</td>\n",
       "      <td>-99.19591</td>\n",
       "      <td>URGENCIAS MEDICAS</td>\n",
       "      <td>LLAMADA DEL 911</td>\n",
       "      <td>AZCAPOTZALCO</td>\n",
       "      <td>19.49486004,-99.19590984</td>\n",
       "      <td>2</td>\n",
       "      <td>0 days 12:50:19</td>\n",
       "    </tr>\n",
       "  </tbody>\n",
       "</table>\n",
       "</div>"
      ],
      "text/plain": [
       "                  folio fecha_creacion hora_creacion dia_semana  \\\n",
       "831339  C5/200217/09463     2020-02-17   0.985266204      Lunes   \n",
       "831341  C5/200218/03696     2020-02-18    0.53494213     Martes   \n",
       "\n",
       "                                            codigo_cierre fecha_cierre  \\\n",
       "831339  (A) La unidad de atención a emergencias fue de...   2020-02-18   \n",
       "831341  (A) La unidad de atención a emergencias fue de...   2020-02-18   \n",
       "\n",
       "        año_cierre mes_cierre  hora_cierre delegacion_inicio  \\\n",
       "831339        2020    Febrero  0.147476852    MIGUEL HIDALGO   \n",
       "831341        2020    Febrero  0.592511574      AZCAPOTZALCO   \n",
       "\n",
       "                           incidente_c4   latitud  longitud  \\\n",
       "831339  accidente-choque sin lesionados  19.45393 -99.19447   \n",
       "831341            lesionado-atropellado  19.49486 -99.19591   \n",
       "\n",
       "        clas_con_f_alarma     tipo_entrada delegacion_cierre  \\\n",
       "831339         EMERGENCIA  LLAMADA DEL 911    MIGUEL HIDALGO   \n",
       "831341  URGENCIAS MEDICAS  LLAMADA DEL 911      AZCAPOTZALCO   \n",
       "\n",
       "                        geopoint  mes hora_creacion_corregida  \n",
       "831339  19.45393002,-99.19446984    2         0 days 23:38:47  \n",
       "831341  19.49486004,-99.19590984    2         0 days 12:50:19  "
      ]
     },
     "execution_count": 40,
     "metadata": {},
     "output_type": "execute_result"
    }
   ],
   "source": [
    "dataframe_hrcorregida.head(2)"
   ]
  },
  {
   "cell_type": "code",
   "execution_count": 41,
   "metadata": {},
   "outputs": [
    {
     "data": {
      "text/plain": [
       "folio                               object\n",
       "fecha_creacion              datetime64[ns]\n",
       "hora_creacion                       object\n",
       "dia_semana                          object\n",
       "codigo_cierre                       object\n",
       "fecha_cierre                datetime64[ns]\n",
       "año_cierre                           int64\n",
       "mes_cierre                          object\n",
       "hora_cierre                         object\n",
       "delegacion_inicio                   object\n",
       "incidente_c4                        object\n",
       "latitud                            float64\n",
       "longitud                           float64\n",
       "clas_con_f_alarma                   object\n",
       "tipo_entrada                        object\n",
       "delegacion_cierre                   object\n",
       "geopoint                            object\n",
       "mes                                  int64\n",
       "hora_creacion_corregida    timedelta64[ns]\n",
       "dtype: object"
      ]
     },
     "execution_count": 41,
     "metadata": {},
     "output_type": "execute_result"
    }
   ],
   "source": [
    "dataframe_hrcorregida.dtypes"
   ]
  },
  {
   "cell_type": "code",
   "execution_count": 42,
   "metadata": {},
   "outputs": [],
   "source": [
    "#La pasamos a string para eliminar el texto de 0 días\n",
    "dataframe_hrcorregida['hora_creacion_corregida'] = dataframe_hrcorregida['hora_creacion_corregida'].astype(str)"
   ]
  },
  {
   "cell_type": "code",
   "execution_count": 43,
   "metadata": {},
   "outputs": [],
   "source": [
    "#Eliminamos el string de 0 dias\n",
    "dataframe_hrcorregida['hora_creacion_corregida'] = dataframe_hrcorregida['hora_creacion_corregida'].str.replace('0 days ', '')"
   ]
  },
  {
   "cell_type": "code",
   "execution_count": 44,
   "metadata": {},
   "outputs": [
    {
     "data": {
      "text/html": [
       "<div>\n",
       "<style scoped>\n",
       "    .dataframe tbody tr th:only-of-type {\n",
       "        vertical-align: middle;\n",
       "    }\n",
       "\n",
       "    .dataframe tbody tr th {\n",
       "        vertical-align: top;\n",
       "    }\n",
       "\n",
       "    .dataframe thead th {\n",
       "        text-align: right;\n",
       "    }\n",
       "</style>\n",
       "<table border=\"1\" class=\"dataframe\">\n",
       "  <thead>\n",
       "    <tr style=\"text-align: right;\">\n",
       "      <th></th>\n",
       "      <th>folio</th>\n",
       "      <th>fecha_creacion</th>\n",
       "      <th>hora_creacion</th>\n",
       "      <th>dia_semana</th>\n",
       "      <th>codigo_cierre</th>\n",
       "      <th>fecha_cierre</th>\n",
       "      <th>año_cierre</th>\n",
       "      <th>mes_cierre</th>\n",
       "      <th>hora_cierre</th>\n",
       "      <th>delegacion_inicio</th>\n",
       "      <th>incidente_c4</th>\n",
       "      <th>latitud</th>\n",
       "      <th>longitud</th>\n",
       "      <th>clas_con_f_alarma</th>\n",
       "      <th>tipo_entrada</th>\n",
       "      <th>delegacion_cierre</th>\n",
       "      <th>geopoint</th>\n",
       "      <th>mes</th>\n",
       "      <th>hora_creacion_corregida</th>\n",
       "    </tr>\n",
       "  </thead>\n",
       "  <tbody>\n",
       "    <tr>\n",
       "      <th>831339</th>\n",
       "      <td>C5/200217/09463</td>\n",
       "      <td>2020-02-17</td>\n",
       "      <td>0.985266204</td>\n",
       "      <td>Lunes</td>\n",
       "      <td>(A) La unidad de atención a emergencias fue de...</td>\n",
       "      <td>2020-02-18</td>\n",
       "      <td>2020</td>\n",
       "      <td>Febrero</td>\n",
       "      <td>0.147476852</td>\n",
       "      <td>MIGUEL HIDALGO</td>\n",
       "      <td>accidente-choque sin lesionados</td>\n",
       "      <td>19.45393</td>\n",
       "      <td>-99.19447</td>\n",
       "      <td>EMERGENCIA</td>\n",
       "      <td>LLAMADA DEL 911</td>\n",
       "      <td>MIGUEL HIDALGO</td>\n",
       "      <td>19.45393002,-99.19446984</td>\n",
       "      <td>2</td>\n",
       "      <td>23:38:47</td>\n",
       "    </tr>\n",
       "    <tr>\n",
       "      <th>831341</th>\n",
       "      <td>C5/200218/03696</td>\n",
       "      <td>2020-02-18</td>\n",
       "      <td>0.53494213</td>\n",
       "      <td>Martes</td>\n",
       "      <td>(A) La unidad de atención a emergencias fue de...</td>\n",
       "      <td>2020-02-18</td>\n",
       "      <td>2020</td>\n",
       "      <td>Febrero</td>\n",
       "      <td>0.592511574</td>\n",
       "      <td>AZCAPOTZALCO</td>\n",
       "      <td>lesionado-atropellado</td>\n",
       "      <td>19.49486</td>\n",
       "      <td>-99.19591</td>\n",
       "      <td>URGENCIAS MEDICAS</td>\n",
       "      <td>LLAMADA DEL 911</td>\n",
       "      <td>AZCAPOTZALCO</td>\n",
       "      <td>19.49486004,-99.19590984</td>\n",
       "      <td>2</td>\n",
       "      <td>12:50:19</td>\n",
       "    </tr>\n",
       "  </tbody>\n",
       "</table>\n",
       "</div>"
      ],
      "text/plain": [
       "                  folio fecha_creacion hora_creacion dia_semana  \\\n",
       "831339  C5/200217/09463     2020-02-17   0.985266204      Lunes   \n",
       "831341  C5/200218/03696     2020-02-18    0.53494213     Martes   \n",
       "\n",
       "                                            codigo_cierre fecha_cierre  \\\n",
       "831339  (A) La unidad de atención a emergencias fue de...   2020-02-18   \n",
       "831341  (A) La unidad de atención a emergencias fue de...   2020-02-18   \n",
       "\n",
       "        año_cierre mes_cierre  hora_cierre delegacion_inicio  \\\n",
       "831339        2020    Febrero  0.147476852    MIGUEL HIDALGO   \n",
       "831341        2020    Febrero  0.592511574      AZCAPOTZALCO   \n",
       "\n",
       "                           incidente_c4   latitud  longitud  \\\n",
       "831339  accidente-choque sin lesionados  19.45393 -99.19447   \n",
       "831341            lesionado-atropellado  19.49486 -99.19591   \n",
       "\n",
       "        clas_con_f_alarma     tipo_entrada delegacion_cierre  \\\n",
       "831339         EMERGENCIA  LLAMADA DEL 911    MIGUEL HIDALGO   \n",
       "831341  URGENCIAS MEDICAS  LLAMADA DEL 911      AZCAPOTZALCO   \n",
       "\n",
       "                        geopoint  mes hora_creacion_corregida  \n",
       "831339  19.45393002,-99.19446984    2                23:38:47  \n",
       "831341  19.49486004,-99.19590984    2                12:50:19  "
      ]
     },
     "execution_count": 44,
     "metadata": {},
     "output_type": "execute_result"
    }
   ],
   "source": [
    "dataframe_hrcorregida.head(2)"
   ]
  },
  {
   "cell_type": "code",
   "execution_count": 45,
   "metadata": {},
   "outputs": [],
   "source": [
    "dataframe_hrcorregida['hora_creacion'] = dataframe_hrcorregida['hora_creacion_corregida']"
   ]
  },
  {
   "cell_type": "code",
   "execution_count": 46,
   "metadata": {},
   "outputs": [],
   "source": [
    "df_incidentes = df_incidentes.append(dataframe_hrcorregida)"
   ]
  },
  {
   "cell_type": "code",
   "execution_count": 47,
   "metadata": {},
   "outputs": [],
   "source": [
    "df_incidentes.drop_duplicates(keep='last',subset=['folio'],inplace = True)"
   ]
  },
  {
   "cell_type": "code",
   "execution_count": 48,
   "metadata": {},
   "outputs": [
    {
     "data": {
      "text/html": [
       "<div>\n",
       "<style scoped>\n",
       "    .dataframe tbody tr th:only-of-type {\n",
       "        vertical-align: middle;\n",
       "    }\n",
       "\n",
       "    .dataframe tbody tr th {\n",
       "        vertical-align: top;\n",
       "    }\n",
       "\n",
       "    .dataframe thead th {\n",
       "        text-align: right;\n",
       "    }\n",
       "</style>\n",
       "<table border=\"1\" class=\"dataframe\">\n",
       "  <thead>\n",
       "    <tr style=\"text-align: right;\">\n",
       "      <th></th>\n",
       "      <th>folio</th>\n",
       "      <th>fecha_creacion</th>\n",
       "      <th>hora_creacion</th>\n",
       "      <th>dia_semana</th>\n",
       "      <th>codigo_cierre</th>\n",
       "      <th>fecha_cierre</th>\n",
       "      <th>año_cierre</th>\n",
       "      <th>mes_cierre</th>\n",
       "      <th>hora_cierre</th>\n",
       "      <th>delegacion_inicio</th>\n",
       "      <th>incidente_c4</th>\n",
       "      <th>latitud</th>\n",
       "      <th>longitud</th>\n",
       "      <th>clas_con_f_alarma</th>\n",
       "      <th>tipo_entrada</th>\n",
       "      <th>delegacion_cierre</th>\n",
       "      <th>geopoint</th>\n",
       "      <th>mes</th>\n",
       "      <th>hora_creacion_corregida</th>\n",
       "    </tr>\n",
       "  </thead>\n",
       "  <tbody>\n",
       "    <tr>\n",
       "      <th>0</th>\n",
       "      <td>GA/160123/05714</td>\n",
       "      <td>2016-01-23</td>\n",
       "      <td>22:35:04</td>\n",
       "      <td>Sábado</td>\n",
       "      <td>(A) La unidad de atención a emergencias fue de...</td>\n",
       "      <td>2016-01-24</td>\n",
       "      <td>2016</td>\n",
       "      <td>Enero</td>\n",
       "      <td>00:21:08</td>\n",
       "      <td>VENUSTIANO CARRANZA</td>\n",
       "      <td>accidente-choque sin lesionados</td>\n",
       "      <td>19.422113</td>\n",
       "      <td>-99.084643</td>\n",
       "      <td>EMERGENCIA</td>\n",
       "      <td>BOTÓN DE AUXILIO</td>\n",
       "      <td>VENUSTIANO CARRANZA</td>\n",
       "      <td>19.422113,-99.084643</td>\n",
       "      <td>1</td>\n",
       "      <td>NaN</td>\n",
       "    </tr>\n",
       "    <tr>\n",
       "      <th>1</th>\n",
       "      <td>AO/160123/05826</td>\n",
       "      <td>2016-01-23</td>\n",
       "      <td>22:50:49</td>\n",
       "      <td>Sábado</td>\n",
       "      <td>(A) La unidad de atención a emergencias fue de...</td>\n",
       "      <td>2016-01-24</td>\n",
       "      <td>2016</td>\n",
       "      <td>Enero</td>\n",
       "      <td>04:40:37</td>\n",
       "      <td>CUAJIMALPA</td>\n",
       "      <td>accidente-choque con lesionados</td>\n",
       "      <td>19.358320</td>\n",
       "      <td>-99.297641</td>\n",
       "      <td>URGENCIAS MEDICAS</td>\n",
       "      <td>BOTÓN DE AUXILIO</td>\n",
       "      <td>CUAJIMALPA</td>\n",
       "      <td>19.35832,-99.297641</td>\n",
       "      <td>1</td>\n",
       "      <td>NaN</td>\n",
       "    </tr>\n",
       "  </tbody>\n",
       "</table>\n",
       "</div>"
      ],
      "text/plain": [
       "             folio fecha_creacion hora_creacion dia_semana  \\\n",
       "0  GA/160123/05714     2016-01-23      22:35:04     Sábado   \n",
       "1  AO/160123/05826     2016-01-23      22:50:49     Sábado   \n",
       "\n",
       "                                       codigo_cierre fecha_cierre  año_cierre  \\\n",
       "0  (A) La unidad de atención a emergencias fue de...   2016-01-24        2016   \n",
       "1  (A) La unidad de atención a emergencias fue de...   2016-01-24        2016   \n",
       "\n",
       "  mes_cierre hora_cierre    delegacion_inicio  \\\n",
       "0      Enero    00:21:08  VENUSTIANO CARRANZA   \n",
       "1      Enero    04:40:37           CUAJIMALPA   \n",
       "\n",
       "                      incidente_c4    latitud   longitud  clas_con_f_alarma  \\\n",
       "0  accidente-choque sin lesionados  19.422113 -99.084643         EMERGENCIA   \n",
       "1  accidente-choque con lesionados  19.358320 -99.297641  URGENCIAS MEDICAS   \n",
       "\n",
       "       tipo_entrada    delegacion_cierre              geopoint  mes  \\\n",
       "0  BOTÓN DE AUXILIO  VENUSTIANO CARRANZA  19.422113,-99.084643    1   \n",
       "1  BOTÓN DE AUXILIO           CUAJIMALPA   19.35832,-99.297641    1   \n",
       "\n",
       "  hora_creacion_corregida  \n",
       "0                     NaN  \n",
       "1                     NaN  "
      ]
     },
     "execution_count": 48,
     "metadata": {},
     "output_type": "execute_result"
    }
   ],
   "source": [
    "df_incidentes.head(2)"
   ]
  },
  {
   "cell_type": "code",
   "execution_count": 49,
   "metadata": {},
   "outputs": [
    {
     "data": {
      "text/plain": [
       "array(['22:35:04', '22:50:49', '09:40:11', ..., '03:08:57', '02:05:12',\n",
       "       '04:33:05'], dtype=object)"
      ]
     },
     "execution_count": 49,
     "metadata": {},
     "output_type": "execute_result"
    }
   ],
   "source": [
    "# Verificamos:\n",
    "df_incidentes['hora_creacion'].unique()"
   ]
  },
  {
   "cell_type": "markdown",
   "metadata": {},
   "source": [
    "Repetimos el procedimiento para las horas de cierre:"
   ]
  },
  {
   "cell_type": "code",
   "execution_count": 50,
   "metadata": {},
   "outputs": [],
   "source": [
    "df_hrs_raras = df_incidentes.loc[~df_incidentes[\"hora_cierre\"].str.contains(':', case=False, na=None)]"
   ]
  },
  {
   "cell_type": "code",
   "execution_count": 51,
   "metadata": {},
   "outputs": [
    {
     "data": {
      "text/html": [
       "<div>\n",
       "<style scoped>\n",
       "    .dataframe tbody tr th:only-of-type {\n",
       "        vertical-align: middle;\n",
       "    }\n",
       "\n",
       "    .dataframe tbody tr th {\n",
       "        vertical-align: top;\n",
       "    }\n",
       "\n",
       "    .dataframe thead th {\n",
       "        text-align: right;\n",
       "    }\n",
       "</style>\n",
       "<table border=\"1\" class=\"dataframe\">\n",
       "  <thead>\n",
       "    <tr style=\"text-align: right;\">\n",
       "      <th></th>\n",
       "      <th>folio</th>\n",
       "      <th>fecha_creacion</th>\n",
       "      <th>hora_creacion</th>\n",
       "      <th>dia_semana</th>\n",
       "      <th>codigo_cierre</th>\n",
       "      <th>fecha_cierre</th>\n",
       "      <th>año_cierre</th>\n",
       "      <th>mes_cierre</th>\n",
       "      <th>hora_cierre</th>\n",
       "      <th>delegacion_inicio</th>\n",
       "      <th>incidente_c4</th>\n",
       "      <th>latitud</th>\n",
       "      <th>longitud</th>\n",
       "      <th>clas_con_f_alarma</th>\n",
       "      <th>tipo_entrada</th>\n",
       "      <th>delegacion_cierre</th>\n",
       "      <th>geopoint</th>\n",
       "      <th>mes</th>\n",
       "      <th>hora_creacion_corregida</th>\n",
       "    </tr>\n",
       "  </thead>\n",
       "  <tbody>\n",
       "    <tr>\n",
       "      <th>831387</th>\n",
       "      <td>C5/200218/04419</td>\n",
       "      <td>2020-02-18</td>\n",
       "      <td>14:14:33</td>\n",
       "      <td>Martes</td>\n",
       "      <td>(N) La unidad de atención a emergencias fue de...</td>\n",
       "      <td>2020-02-18</td>\n",
       "      <td>2020</td>\n",
       "      <td>Febrero</td>\n",
       "      <td>0.635243056</td>\n",
       "      <td>ALVARO OBREGON</td>\n",
       "      <td>accidente-choque sin lesionados</td>\n",
       "      <td>19.35964</td>\n",
       "      <td>-99.209128</td>\n",
       "      <td>EMERGENCIA</td>\n",
       "      <td>LLAMADA DEL 911</td>\n",
       "      <td>ALVARO OBREGON</td>\n",
       "      <td>19.35964,-99.20912778</td>\n",
       "      <td>2</td>\n",
       "      <td>NaN</td>\n",
       "    </tr>\n",
       "    <tr>\n",
       "      <th>831459</th>\n",
       "      <td>C5/200218/02272</td>\n",
       "      <td>2020-02-18</td>\n",
       "      <td>09:49:30</td>\n",
       "      <td>Martes</td>\n",
       "      <td>(D) El incidente reportado se registró en dos ...</td>\n",
       "      <td>2020-02-18</td>\n",
       "      <td>2020</td>\n",
       "      <td>Febrero</td>\n",
       "      <td>0.421828704</td>\n",
       "      <td>MIGUEL HIDALGO</td>\n",
       "      <td>lesionado-atropellado</td>\n",
       "      <td>19.47115</td>\n",
       "      <td>-99.206820</td>\n",
       "      <td>URGENCIAS MEDICAS</td>\n",
       "      <td>LLAMADA APP911</td>\n",
       "      <td>MIGUEL HIDALGO</td>\n",
       "      <td>19.47114999,-99.20682</td>\n",
       "      <td>2</td>\n",
       "      <td>NaN</td>\n",
       "    </tr>\n",
       "  </tbody>\n",
       "</table>\n",
       "</div>"
      ],
      "text/plain": [
       "                  folio fecha_creacion hora_creacion dia_semana  \\\n",
       "831387  C5/200218/04419     2020-02-18      14:14:33     Martes   \n",
       "831459  C5/200218/02272     2020-02-18      09:49:30     Martes   \n",
       "\n",
       "                                            codigo_cierre fecha_cierre  \\\n",
       "831387  (N) La unidad de atención a emergencias fue de...   2020-02-18   \n",
       "831459  (D) El incidente reportado se registró en dos ...   2020-02-18   \n",
       "\n",
       "        año_cierre mes_cierre  hora_cierre delegacion_inicio  \\\n",
       "831387        2020    Febrero  0.635243056    ALVARO OBREGON   \n",
       "831459        2020    Febrero  0.421828704    MIGUEL HIDALGO   \n",
       "\n",
       "                           incidente_c4   latitud   longitud  \\\n",
       "831387  accidente-choque sin lesionados  19.35964 -99.209128   \n",
       "831459            lesionado-atropellado  19.47115 -99.206820   \n",
       "\n",
       "        clas_con_f_alarma     tipo_entrada delegacion_cierre  \\\n",
       "831387         EMERGENCIA  LLAMADA DEL 911    ALVARO OBREGON   \n",
       "831459  URGENCIAS MEDICAS   LLAMADA APP911    MIGUEL HIDALGO   \n",
       "\n",
       "                     geopoint  mes hora_creacion_corregida  \n",
       "831387  19.35964,-99.20912778    2                     NaN  \n",
       "831459  19.47114999,-99.20682    2                     NaN  "
      ]
     },
     "execution_count": 51,
     "metadata": {},
     "output_type": "execute_result"
    }
   ],
   "source": [
    "df_hrs_raras.head(2)"
   ]
  },
  {
   "cell_type": "code",
   "execution_count": 52,
   "metadata": {},
   "outputs": [
    {
     "data": {
      "text/plain": [
       "1542"
      ]
     },
     "execution_count": 52,
     "metadata": {},
     "output_type": "execute_result"
    }
   ],
   "source": [
    "len(df_hrs_raras)"
   ]
  },
  {
   "cell_type": "code",
   "execution_count": 53,
   "metadata": {},
   "outputs": [],
   "source": [
    "hrs_raras = df_hrs_raras['hora_cierre']"
   ]
  },
  {
   "cell_type": "code",
   "execution_count": 54,
   "metadata": {},
   "outputs": [
    {
     "data": {
      "text/plain": [
       "831387     0.635243056\n",
       "831459     0.421828704\n",
       "831467     0.979803241\n",
       "831615     0.634780093\n",
       "831749     0.585763889\n",
       "              ...     \n",
       "1382352    0.047685185\n",
       "1382353    0.101643519\n",
       "1382354    0.053009259\n",
       "1382355    0.048530093\n",
       "1382356    0.021076389\n",
       "Name: hora_cierre, Length: 1542, dtype: object"
      ]
     },
     "execution_count": 54,
     "metadata": {},
     "output_type": "execute_result"
    }
   ],
   "source": [
    "hrs_raras"
   ]
  },
  {
   "cell_type": "code",
   "execution_count": 55,
   "metadata": {},
   "outputs": [
    {
     "name": "stdout",
     "output_type": "stream",
     "text": [
      "23:38:47.000026\n"
     ]
    }
   ],
   "source": [
    "print(datetime.timedelta(days=0.985266204))"
   ]
  },
  {
   "cell_type": "code",
   "execution_count": 56,
   "metadata": {},
   "outputs": [
    {
     "name": "stdout",
     "output_type": "stream",
     "text": [
      "15:14:45.000038\n"
     ]
    }
   ],
   "source": [
    "print(datetime.timedelta(days=float(list(hrs_raras)[0])))"
   ]
  },
  {
   "cell_type": "code",
   "execution_count": 57,
   "metadata": {},
   "outputs": [
    {
     "data": {
      "text/plain": [
       "datetime.timedelta(seconds=54885, microseconds=38)"
      ]
     },
     "execution_count": 57,
     "metadata": {},
     "output_type": "execute_result"
    }
   ],
   "source": [
    "datetime.timedelta(days=float(list(hrs_raras)[0]))"
   ]
  },
  {
   "cell_type": "code",
   "execution_count": 58,
   "metadata": {},
   "outputs": [],
   "source": [
    "hrs_raras = hrs_raras.astype('float')\n",
    "hours = [datetime.timedelta(days=float(num)) for num in hrs_raras]"
   ]
  },
  {
   "cell_type": "code",
   "execution_count": 59,
   "metadata": {},
   "outputs": [],
   "source": [
    "data_hr_corregida = {'folio':df_hrs_raras['folio'],'hora_cierre':df_hrs_raras['hora_creacion'],'hora_cierre_corregida':hours}"
   ]
  },
  {
   "cell_type": "code",
   "execution_count": 60,
   "metadata": {},
   "outputs": [],
   "source": [
    "dataframe_hrcorregida = pd.DataFrame(data=data_hr_corregida)"
   ]
  },
  {
   "cell_type": "code",
   "execution_count": 61,
   "metadata": {},
   "outputs": [],
   "source": [
    "dataframe_hrcorregida = df_hrs_raras.copy()\n",
    "dataframe_hrcorregida['hora_cierre_corregida'] = hours"
   ]
  },
  {
   "cell_type": "code",
   "execution_count": 62,
   "metadata": {},
   "outputs": [
    {
     "data": {
      "text/html": [
       "<div>\n",
       "<style scoped>\n",
       "    .dataframe tbody tr th:only-of-type {\n",
       "        vertical-align: middle;\n",
       "    }\n",
       "\n",
       "    .dataframe tbody tr th {\n",
       "        vertical-align: top;\n",
       "    }\n",
       "\n",
       "    .dataframe thead th {\n",
       "        text-align: right;\n",
       "    }\n",
       "</style>\n",
       "<table border=\"1\" class=\"dataframe\">\n",
       "  <thead>\n",
       "    <tr style=\"text-align: right;\">\n",
       "      <th></th>\n",
       "      <th>folio</th>\n",
       "      <th>fecha_creacion</th>\n",
       "      <th>hora_creacion</th>\n",
       "      <th>dia_semana</th>\n",
       "      <th>codigo_cierre</th>\n",
       "      <th>fecha_cierre</th>\n",
       "      <th>año_cierre</th>\n",
       "      <th>mes_cierre</th>\n",
       "      <th>hora_cierre</th>\n",
       "      <th>delegacion_inicio</th>\n",
       "      <th>incidente_c4</th>\n",
       "      <th>latitud</th>\n",
       "      <th>longitud</th>\n",
       "      <th>clas_con_f_alarma</th>\n",
       "      <th>tipo_entrada</th>\n",
       "      <th>delegacion_cierre</th>\n",
       "      <th>geopoint</th>\n",
       "      <th>mes</th>\n",
       "      <th>hora_creacion_corregida</th>\n",
       "      <th>hora_cierre_corregida</th>\n",
       "    </tr>\n",
       "  </thead>\n",
       "  <tbody>\n",
       "    <tr>\n",
       "      <th>831387</th>\n",
       "      <td>C5/200218/04419</td>\n",
       "      <td>2020-02-18</td>\n",
       "      <td>14:14:33</td>\n",
       "      <td>Martes</td>\n",
       "      <td>(N) La unidad de atención a emergencias fue de...</td>\n",
       "      <td>2020-02-18</td>\n",
       "      <td>2020</td>\n",
       "      <td>Febrero</td>\n",
       "      <td>0.635243056</td>\n",
       "      <td>ALVARO OBREGON</td>\n",
       "      <td>accidente-choque sin lesionados</td>\n",
       "      <td>19.35964</td>\n",
       "      <td>-99.209128</td>\n",
       "      <td>EMERGENCIA</td>\n",
       "      <td>LLAMADA DEL 911</td>\n",
       "      <td>ALVARO OBREGON</td>\n",
       "      <td>19.35964,-99.20912778</td>\n",
       "      <td>2</td>\n",
       "      <td>NaN</td>\n",
       "      <td>0 days 15:14:45.000038</td>\n",
       "    </tr>\n",
       "    <tr>\n",
       "      <th>831459</th>\n",
       "      <td>C5/200218/02272</td>\n",
       "      <td>2020-02-18</td>\n",
       "      <td>09:49:30</td>\n",
       "      <td>Martes</td>\n",
       "      <td>(D) El incidente reportado se registró en dos ...</td>\n",
       "      <td>2020-02-18</td>\n",
       "      <td>2020</td>\n",
       "      <td>Febrero</td>\n",
       "      <td>0.421828704</td>\n",
       "      <td>MIGUEL HIDALGO</td>\n",
       "      <td>lesionado-atropellado</td>\n",
       "      <td>19.47115</td>\n",
       "      <td>-99.206820</td>\n",
       "      <td>URGENCIAS MEDICAS</td>\n",
       "      <td>LLAMADA APP911</td>\n",
       "      <td>MIGUEL HIDALGO</td>\n",
       "      <td>19.47114999,-99.20682</td>\n",
       "      <td>2</td>\n",
       "      <td>NaN</td>\n",
       "      <td>0 days 10:07:26.000026</td>\n",
       "    </tr>\n",
       "  </tbody>\n",
       "</table>\n",
       "</div>"
      ],
      "text/plain": [
       "                  folio fecha_creacion hora_creacion dia_semana  \\\n",
       "831387  C5/200218/04419     2020-02-18      14:14:33     Martes   \n",
       "831459  C5/200218/02272     2020-02-18      09:49:30     Martes   \n",
       "\n",
       "                                            codigo_cierre fecha_cierre  \\\n",
       "831387  (N) La unidad de atención a emergencias fue de...   2020-02-18   \n",
       "831459  (D) El incidente reportado se registró en dos ...   2020-02-18   \n",
       "\n",
       "        año_cierre mes_cierre  hora_cierre delegacion_inicio  \\\n",
       "831387        2020    Febrero  0.635243056    ALVARO OBREGON   \n",
       "831459        2020    Febrero  0.421828704    MIGUEL HIDALGO   \n",
       "\n",
       "                           incidente_c4   latitud   longitud  \\\n",
       "831387  accidente-choque sin lesionados  19.35964 -99.209128   \n",
       "831459            lesionado-atropellado  19.47115 -99.206820   \n",
       "\n",
       "        clas_con_f_alarma     tipo_entrada delegacion_cierre  \\\n",
       "831387         EMERGENCIA  LLAMADA DEL 911    ALVARO OBREGON   \n",
       "831459  URGENCIAS MEDICAS   LLAMADA APP911    MIGUEL HIDALGO   \n",
       "\n",
       "                     geopoint  mes hora_creacion_corregida  \\\n",
       "831387  19.35964,-99.20912778    2                     NaN   \n",
       "831459  19.47114999,-99.20682    2                     NaN   \n",
       "\n",
       "        hora_cierre_corregida  \n",
       "831387 0 days 15:14:45.000038  \n",
       "831459 0 days 10:07:26.000026  "
      ]
     },
     "execution_count": 62,
     "metadata": {},
     "output_type": "execute_result"
    }
   ],
   "source": [
    "dataframe_hrcorregida.head(2)"
   ]
  },
  {
   "cell_type": "code",
   "execution_count": 63,
   "metadata": {},
   "outputs": [],
   "source": [
    "# Eliminamos microsegundos\n",
    "dataframe_hrcorregida['hora_cierre_corregida']= dataframe_hrcorregida['hora_cierre_corregida'].dt.floor('s')"
   ]
  },
  {
   "cell_type": "code",
   "execution_count": 64,
   "metadata": {},
   "outputs": [
    {
     "data": {
      "text/html": [
       "<div>\n",
       "<style scoped>\n",
       "    .dataframe tbody tr th:only-of-type {\n",
       "        vertical-align: middle;\n",
       "    }\n",
       "\n",
       "    .dataframe tbody tr th {\n",
       "        vertical-align: top;\n",
       "    }\n",
       "\n",
       "    .dataframe thead th {\n",
       "        text-align: right;\n",
       "    }\n",
       "</style>\n",
       "<table border=\"1\" class=\"dataframe\">\n",
       "  <thead>\n",
       "    <tr style=\"text-align: right;\">\n",
       "      <th></th>\n",
       "      <th>folio</th>\n",
       "      <th>fecha_creacion</th>\n",
       "      <th>hora_creacion</th>\n",
       "      <th>dia_semana</th>\n",
       "      <th>codigo_cierre</th>\n",
       "      <th>fecha_cierre</th>\n",
       "      <th>año_cierre</th>\n",
       "      <th>mes_cierre</th>\n",
       "      <th>hora_cierre</th>\n",
       "      <th>delegacion_inicio</th>\n",
       "      <th>incidente_c4</th>\n",
       "      <th>latitud</th>\n",
       "      <th>longitud</th>\n",
       "      <th>clas_con_f_alarma</th>\n",
       "      <th>tipo_entrada</th>\n",
       "      <th>delegacion_cierre</th>\n",
       "      <th>geopoint</th>\n",
       "      <th>mes</th>\n",
       "      <th>hora_creacion_corregida</th>\n",
       "      <th>hora_cierre_corregida</th>\n",
       "    </tr>\n",
       "  </thead>\n",
       "  <tbody>\n",
       "    <tr>\n",
       "      <th>831387</th>\n",
       "      <td>C5/200218/04419</td>\n",
       "      <td>2020-02-18</td>\n",
       "      <td>14:14:33</td>\n",
       "      <td>Martes</td>\n",
       "      <td>(N) La unidad de atención a emergencias fue de...</td>\n",
       "      <td>2020-02-18</td>\n",
       "      <td>2020</td>\n",
       "      <td>Febrero</td>\n",
       "      <td>0.635243056</td>\n",
       "      <td>ALVARO OBREGON</td>\n",
       "      <td>accidente-choque sin lesionados</td>\n",
       "      <td>19.35964</td>\n",
       "      <td>-99.209128</td>\n",
       "      <td>EMERGENCIA</td>\n",
       "      <td>LLAMADA DEL 911</td>\n",
       "      <td>ALVARO OBREGON</td>\n",
       "      <td>19.35964,-99.20912778</td>\n",
       "      <td>2</td>\n",
       "      <td>NaN</td>\n",
       "      <td>0 days 15:14:45</td>\n",
       "    </tr>\n",
       "    <tr>\n",
       "      <th>831459</th>\n",
       "      <td>C5/200218/02272</td>\n",
       "      <td>2020-02-18</td>\n",
       "      <td>09:49:30</td>\n",
       "      <td>Martes</td>\n",
       "      <td>(D) El incidente reportado se registró en dos ...</td>\n",
       "      <td>2020-02-18</td>\n",
       "      <td>2020</td>\n",
       "      <td>Febrero</td>\n",
       "      <td>0.421828704</td>\n",
       "      <td>MIGUEL HIDALGO</td>\n",
       "      <td>lesionado-atropellado</td>\n",
       "      <td>19.47115</td>\n",
       "      <td>-99.206820</td>\n",
       "      <td>URGENCIAS MEDICAS</td>\n",
       "      <td>LLAMADA APP911</td>\n",
       "      <td>MIGUEL HIDALGO</td>\n",
       "      <td>19.47114999,-99.20682</td>\n",
       "      <td>2</td>\n",
       "      <td>NaN</td>\n",
       "      <td>0 days 10:07:26</td>\n",
       "    </tr>\n",
       "  </tbody>\n",
       "</table>\n",
       "</div>"
      ],
      "text/plain": [
       "                  folio fecha_creacion hora_creacion dia_semana  \\\n",
       "831387  C5/200218/04419     2020-02-18      14:14:33     Martes   \n",
       "831459  C5/200218/02272     2020-02-18      09:49:30     Martes   \n",
       "\n",
       "                                            codigo_cierre fecha_cierre  \\\n",
       "831387  (N) La unidad de atención a emergencias fue de...   2020-02-18   \n",
       "831459  (D) El incidente reportado se registró en dos ...   2020-02-18   \n",
       "\n",
       "        año_cierre mes_cierre  hora_cierre delegacion_inicio  \\\n",
       "831387        2020    Febrero  0.635243056    ALVARO OBREGON   \n",
       "831459        2020    Febrero  0.421828704    MIGUEL HIDALGO   \n",
       "\n",
       "                           incidente_c4   latitud   longitud  \\\n",
       "831387  accidente-choque sin lesionados  19.35964 -99.209128   \n",
       "831459            lesionado-atropellado  19.47115 -99.206820   \n",
       "\n",
       "        clas_con_f_alarma     tipo_entrada delegacion_cierre  \\\n",
       "831387         EMERGENCIA  LLAMADA DEL 911    ALVARO OBREGON   \n",
       "831459  URGENCIAS MEDICAS   LLAMADA APP911    MIGUEL HIDALGO   \n",
       "\n",
       "                     geopoint  mes hora_creacion_corregida  \\\n",
       "831387  19.35964,-99.20912778    2                     NaN   \n",
       "831459  19.47114999,-99.20682    2                     NaN   \n",
       "\n",
       "       hora_cierre_corregida  \n",
       "831387       0 days 15:14:45  \n",
       "831459       0 days 10:07:26  "
      ]
     },
     "execution_count": 64,
     "metadata": {},
     "output_type": "execute_result"
    }
   ],
   "source": [
    "dataframe_hrcorregida.head(2)"
   ]
  },
  {
   "cell_type": "code",
   "execution_count": 65,
   "metadata": {},
   "outputs": [
    {
     "data": {
      "text/plain": [
       "folio                               object\n",
       "fecha_creacion              datetime64[ns]\n",
       "hora_creacion                       object\n",
       "dia_semana                          object\n",
       "codigo_cierre                       object\n",
       "fecha_cierre                datetime64[ns]\n",
       "año_cierre                           int64\n",
       "mes_cierre                          object\n",
       "hora_cierre                         object\n",
       "delegacion_inicio                   object\n",
       "incidente_c4                        object\n",
       "latitud                            float64\n",
       "longitud                           float64\n",
       "clas_con_f_alarma                   object\n",
       "tipo_entrada                        object\n",
       "delegacion_cierre                   object\n",
       "geopoint                            object\n",
       "mes                                  int64\n",
       "hora_creacion_corregida             object\n",
       "hora_cierre_corregida      timedelta64[ns]\n",
       "dtype: object"
      ]
     },
     "execution_count": 65,
     "metadata": {},
     "output_type": "execute_result"
    }
   ],
   "source": [
    "dataframe_hrcorregida.dtypes"
   ]
  },
  {
   "cell_type": "code",
   "execution_count": 66,
   "metadata": {},
   "outputs": [],
   "source": [
    "#La pasamos a string para eliminar el texto de 0 días\n",
    "dataframe_hrcorregida['hora_cierre_corregida'] = dataframe_hrcorregida['hora_cierre_corregida'].astype(str)"
   ]
  },
  {
   "cell_type": "code",
   "execution_count": 67,
   "metadata": {},
   "outputs": [],
   "source": [
    "#Eliminamos el string de 0 dias\n",
    "dataframe_hrcorregida['hora_cierre_corregida'] = dataframe_hrcorregida['hora_cierre_corregida'].str.replace('0 days ', '')"
   ]
  },
  {
   "cell_type": "code",
   "execution_count": 68,
   "metadata": {},
   "outputs": [
    {
     "data": {
      "text/html": [
       "<div>\n",
       "<style scoped>\n",
       "    .dataframe tbody tr th:only-of-type {\n",
       "        vertical-align: middle;\n",
       "    }\n",
       "\n",
       "    .dataframe tbody tr th {\n",
       "        vertical-align: top;\n",
       "    }\n",
       "\n",
       "    .dataframe thead th {\n",
       "        text-align: right;\n",
       "    }\n",
       "</style>\n",
       "<table border=\"1\" class=\"dataframe\">\n",
       "  <thead>\n",
       "    <tr style=\"text-align: right;\">\n",
       "      <th></th>\n",
       "      <th>folio</th>\n",
       "      <th>fecha_creacion</th>\n",
       "      <th>hora_creacion</th>\n",
       "      <th>dia_semana</th>\n",
       "      <th>codigo_cierre</th>\n",
       "      <th>fecha_cierre</th>\n",
       "      <th>año_cierre</th>\n",
       "      <th>mes_cierre</th>\n",
       "      <th>hora_cierre</th>\n",
       "      <th>delegacion_inicio</th>\n",
       "      <th>incidente_c4</th>\n",
       "      <th>latitud</th>\n",
       "      <th>longitud</th>\n",
       "      <th>clas_con_f_alarma</th>\n",
       "      <th>tipo_entrada</th>\n",
       "      <th>delegacion_cierre</th>\n",
       "      <th>geopoint</th>\n",
       "      <th>mes</th>\n",
       "      <th>hora_creacion_corregida</th>\n",
       "      <th>hora_cierre_corregida</th>\n",
       "    </tr>\n",
       "  </thead>\n",
       "  <tbody>\n",
       "    <tr>\n",
       "      <th>831387</th>\n",
       "      <td>C5/200218/04419</td>\n",
       "      <td>2020-02-18</td>\n",
       "      <td>14:14:33</td>\n",
       "      <td>Martes</td>\n",
       "      <td>(N) La unidad de atención a emergencias fue de...</td>\n",
       "      <td>2020-02-18</td>\n",
       "      <td>2020</td>\n",
       "      <td>Febrero</td>\n",
       "      <td>0.635243056</td>\n",
       "      <td>ALVARO OBREGON</td>\n",
       "      <td>accidente-choque sin lesionados</td>\n",
       "      <td>19.35964</td>\n",
       "      <td>-99.209128</td>\n",
       "      <td>EMERGENCIA</td>\n",
       "      <td>LLAMADA DEL 911</td>\n",
       "      <td>ALVARO OBREGON</td>\n",
       "      <td>19.35964,-99.20912778</td>\n",
       "      <td>2</td>\n",
       "      <td>NaN</td>\n",
       "      <td>15:14:45</td>\n",
       "    </tr>\n",
       "    <tr>\n",
       "      <th>831459</th>\n",
       "      <td>C5/200218/02272</td>\n",
       "      <td>2020-02-18</td>\n",
       "      <td>09:49:30</td>\n",
       "      <td>Martes</td>\n",
       "      <td>(D) El incidente reportado se registró en dos ...</td>\n",
       "      <td>2020-02-18</td>\n",
       "      <td>2020</td>\n",
       "      <td>Febrero</td>\n",
       "      <td>0.421828704</td>\n",
       "      <td>MIGUEL HIDALGO</td>\n",
       "      <td>lesionado-atropellado</td>\n",
       "      <td>19.47115</td>\n",
       "      <td>-99.206820</td>\n",
       "      <td>URGENCIAS MEDICAS</td>\n",
       "      <td>LLAMADA APP911</td>\n",
       "      <td>MIGUEL HIDALGO</td>\n",
       "      <td>19.47114999,-99.20682</td>\n",
       "      <td>2</td>\n",
       "      <td>NaN</td>\n",
       "      <td>10:07:26</td>\n",
       "    </tr>\n",
       "  </tbody>\n",
       "</table>\n",
       "</div>"
      ],
      "text/plain": [
       "                  folio fecha_creacion hora_creacion dia_semana  \\\n",
       "831387  C5/200218/04419     2020-02-18      14:14:33     Martes   \n",
       "831459  C5/200218/02272     2020-02-18      09:49:30     Martes   \n",
       "\n",
       "                                            codigo_cierre fecha_cierre  \\\n",
       "831387  (N) La unidad de atención a emergencias fue de...   2020-02-18   \n",
       "831459  (D) El incidente reportado se registró en dos ...   2020-02-18   \n",
       "\n",
       "        año_cierre mes_cierre  hora_cierre delegacion_inicio  \\\n",
       "831387        2020    Febrero  0.635243056    ALVARO OBREGON   \n",
       "831459        2020    Febrero  0.421828704    MIGUEL HIDALGO   \n",
       "\n",
       "                           incidente_c4   latitud   longitud  \\\n",
       "831387  accidente-choque sin lesionados  19.35964 -99.209128   \n",
       "831459            lesionado-atropellado  19.47115 -99.206820   \n",
       "\n",
       "        clas_con_f_alarma     tipo_entrada delegacion_cierre  \\\n",
       "831387         EMERGENCIA  LLAMADA DEL 911    ALVARO OBREGON   \n",
       "831459  URGENCIAS MEDICAS   LLAMADA APP911    MIGUEL HIDALGO   \n",
       "\n",
       "                     geopoint  mes hora_creacion_corregida  \\\n",
       "831387  19.35964,-99.20912778    2                     NaN   \n",
       "831459  19.47114999,-99.20682    2                     NaN   \n",
       "\n",
       "       hora_cierre_corregida  \n",
       "831387              15:14:45  \n",
       "831459              10:07:26  "
      ]
     },
     "execution_count": 68,
     "metadata": {},
     "output_type": "execute_result"
    }
   ],
   "source": [
    "dataframe_hrcorregida.head(2)"
   ]
  },
  {
   "cell_type": "code",
   "execution_count": 69,
   "metadata": {},
   "outputs": [],
   "source": [
    "dataframe_hrcorregida['hora_cierre'] = dataframe_hrcorregida['hora_cierre_corregida']"
   ]
  },
  {
   "cell_type": "code",
   "execution_count": 70,
   "metadata": {},
   "outputs": [],
   "source": [
    "df_incidentes = df_incidentes.append(dataframe_hrcorregida)"
   ]
  },
  {
   "cell_type": "code",
   "execution_count": 71,
   "metadata": {},
   "outputs": [],
   "source": [
    "df_incidentes.drop_duplicates(keep='last',subset=['folio'],inplace = True)"
   ]
  },
  {
   "cell_type": "code",
   "execution_count": 72,
   "metadata": {},
   "outputs": [
    {
     "data": {
      "text/html": [
       "<div>\n",
       "<style scoped>\n",
       "    .dataframe tbody tr th:only-of-type {\n",
       "        vertical-align: middle;\n",
       "    }\n",
       "\n",
       "    .dataframe tbody tr th {\n",
       "        vertical-align: top;\n",
       "    }\n",
       "\n",
       "    .dataframe thead th {\n",
       "        text-align: right;\n",
       "    }\n",
       "</style>\n",
       "<table border=\"1\" class=\"dataframe\">\n",
       "  <thead>\n",
       "    <tr style=\"text-align: right;\">\n",
       "      <th></th>\n",
       "      <th>folio</th>\n",
       "      <th>fecha_creacion</th>\n",
       "      <th>hora_creacion</th>\n",
       "      <th>dia_semana</th>\n",
       "      <th>codigo_cierre</th>\n",
       "      <th>fecha_cierre</th>\n",
       "      <th>año_cierre</th>\n",
       "      <th>mes_cierre</th>\n",
       "      <th>hora_cierre</th>\n",
       "      <th>delegacion_inicio</th>\n",
       "      <th>incidente_c4</th>\n",
       "      <th>latitud</th>\n",
       "      <th>longitud</th>\n",
       "      <th>clas_con_f_alarma</th>\n",
       "      <th>tipo_entrada</th>\n",
       "      <th>delegacion_cierre</th>\n",
       "      <th>geopoint</th>\n",
       "      <th>mes</th>\n",
       "      <th>hora_creacion_corregida</th>\n",
       "      <th>hora_cierre_corregida</th>\n",
       "    </tr>\n",
       "  </thead>\n",
       "  <tbody>\n",
       "    <tr>\n",
       "      <th>0</th>\n",
       "      <td>GA/160123/05714</td>\n",
       "      <td>2016-01-23</td>\n",
       "      <td>22:35:04</td>\n",
       "      <td>Sábado</td>\n",
       "      <td>(A) La unidad de atención a emergencias fue de...</td>\n",
       "      <td>2016-01-24</td>\n",
       "      <td>2016</td>\n",
       "      <td>Enero</td>\n",
       "      <td>00:21:08</td>\n",
       "      <td>VENUSTIANO CARRANZA</td>\n",
       "      <td>accidente-choque sin lesionados</td>\n",
       "      <td>19.422113</td>\n",
       "      <td>-99.084643</td>\n",
       "      <td>EMERGENCIA</td>\n",
       "      <td>BOTÓN DE AUXILIO</td>\n",
       "      <td>VENUSTIANO CARRANZA</td>\n",
       "      <td>19.422113,-99.084643</td>\n",
       "      <td>1</td>\n",
       "      <td>NaN</td>\n",
       "      <td>NaN</td>\n",
       "    </tr>\n",
       "    <tr>\n",
       "      <th>1</th>\n",
       "      <td>AO/160123/05826</td>\n",
       "      <td>2016-01-23</td>\n",
       "      <td>22:50:49</td>\n",
       "      <td>Sábado</td>\n",
       "      <td>(A) La unidad de atención a emergencias fue de...</td>\n",
       "      <td>2016-01-24</td>\n",
       "      <td>2016</td>\n",
       "      <td>Enero</td>\n",
       "      <td>04:40:37</td>\n",
       "      <td>CUAJIMALPA</td>\n",
       "      <td>accidente-choque con lesionados</td>\n",
       "      <td>19.358320</td>\n",
       "      <td>-99.297641</td>\n",
       "      <td>URGENCIAS MEDICAS</td>\n",
       "      <td>BOTÓN DE AUXILIO</td>\n",
       "      <td>CUAJIMALPA</td>\n",
       "      <td>19.35832,-99.297641</td>\n",
       "      <td>1</td>\n",
       "      <td>NaN</td>\n",
       "      <td>NaN</td>\n",
       "    </tr>\n",
       "  </tbody>\n",
       "</table>\n",
       "</div>"
      ],
      "text/plain": [
       "             folio fecha_creacion hora_creacion dia_semana  \\\n",
       "0  GA/160123/05714     2016-01-23      22:35:04     Sábado   \n",
       "1  AO/160123/05826     2016-01-23      22:50:49     Sábado   \n",
       "\n",
       "                                       codigo_cierre fecha_cierre  año_cierre  \\\n",
       "0  (A) La unidad de atención a emergencias fue de...   2016-01-24        2016   \n",
       "1  (A) La unidad de atención a emergencias fue de...   2016-01-24        2016   \n",
       "\n",
       "  mes_cierre hora_cierre    delegacion_inicio  \\\n",
       "0      Enero    00:21:08  VENUSTIANO CARRANZA   \n",
       "1      Enero    04:40:37           CUAJIMALPA   \n",
       "\n",
       "                      incidente_c4    latitud   longitud  clas_con_f_alarma  \\\n",
       "0  accidente-choque sin lesionados  19.422113 -99.084643         EMERGENCIA   \n",
       "1  accidente-choque con lesionados  19.358320 -99.297641  URGENCIAS MEDICAS   \n",
       "\n",
       "       tipo_entrada    delegacion_cierre              geopoint  mes  \\\n",
       "0  BOTÓN DE AUXILIO  VENUSTIANO CARRANZA  19.422113,-99.084643    1   \n",
       "1  BOTÓN DE AUXILIO           CUAJIMALPA   19.35832,-99.297641    1   \n",
       "\n",
       "  hora_creacion_corregida hora_cierre_corregida  \n",
       "0                     NaN                   NaN  \n",
       "1                     NaN                   NaN  "
      ]
     },
     "execution_count": 72,
     "metadata": {},
     "output_type": "execute_result"
    }
   ],
   "source": [
    "df_incidentes.head(2)"
   ]
  },
  {
   "cell_type": "code",
   "execution_count": 73,
   "metadata": {},
   "outputs": [
    {
     "data": {
      "text/plain": [
       "array(['00:21:08', '04:40:37', '11:13:03', ..., '04:21:49', '02:44:31',\n",
       "       '04:35:21'], dtype=object)"
      ]
     },
     "execution_count": 73,
     "metadata": {},
     "output_type": "execute_result"
    }
   ],
   "source": [
    "# Verificamos:\n",
    "df_incidentes['hora_cierre'].unique()"
   ]
  },
  {
   "cell_type": "code",
   "execution_count": 74,
   "metadata": {},
   "outputs": [],
   "source": [
    "# Eliminamos columnas auxiliares\n",
    "df_incidentes.drop(columns = 'hora_creacion_corregida',inplace = True)\n",
    "df_incidentes.drop(columns = 'hora_cierre_corregida',inplace = True)"
   ]
  },
  {
   "cell_type": "code",
   "execution_count": 75,
   "metadata": {},
   "outputs": [],
   "source": [
    "# Cambiamos tipos de datos\n",
    "df_incidentes = df_incidentes.astype({\"dia_semana\":'category',\"año_cierre\":'category', \"codigo_cierre\":'category', \"año_cierre\":'int64', \"mes_cierre\":'category',\"delegacion_inicio\":'category', \"incidente_c4\":'category' , \"clas_con_f_alarma\":'category', \"tipo_entrada\":'category',  \"delegacion_cierre\":'category' , \"mes\":'int64'}) "
   ]
  },
  {
   "cell_type": "code",
   "execution_count": 76,
   "metadata": {},
   "outputs": [
    {
     "data": {
      "text/plain": [
       "folio                        object\n",
       "fecha_creacion       datetime64[ns]\n",
       "hora_creacion                object\n",
       "dia_semana                 category\n",
       "codigo_cierre              category\n",
       "fecha_cierre         datetime64[ns]\n",
       "año_cierre                    int64\n",
       "mes_cierre                 category\n",
       "hora_cierre                  object\n",
       "delegacion_inicio          category\n",
       "incidente_c4               category\n",
       "latitud                     float64\n",
       "longitud                    float64\n",
       "clas_con_f_alarma          category\n",
       "tipo_entrada               category\n",
       "delegacion_cierre          category\n",
       "geopoint                     object\n",
       "mes                           int64\n",
       "dtype: object"
      ]
     },
     "execution_count": 76,
     "metadata": {},
     "output_type": "execute_result"
    }
   ],
   "source": [
    "df_incidentes.dtypes"
   ]
  },
  {
   "cell_type": "code",
   "execution_count": 77,
   "metadata": {},
   "outputs": [],
   "source": [
    "df_incidentes['año_cierre'] = df_incidentes['año_cierre'].astype('category')\n",
    "df_incidentes['mes'] = df_incidentes['mes'].astype('category')"
   ]
  },
  {
   "cell_type": "markdown",
   "metadata": {},
   "source": [
    "### Perfilamiento por variables"
   ]
  },
  {
   "cell_type": "code",
   "execution_count": 78,
   "metadata": {},
   "outputs": [],
   "source": [
    "profiling_numericas,profiling_categoricas,profiling_texto = eda.genera_profiling_por_variable(df_incidentes)"
   ]
  },
  {
   "cell_type": "code",
   "execution_count": 79,
   "metadata": {},
   "outputs": [
    {
     "data": {
      "text/html": [
       "<div>\n",
       "<style scoped>\n",
       "    .dataframe tbody tr th:only-of-type {\n",
       "        vertical-align: middle;\n",
       "    }\n",
       "\n",
       "    .dataframe tbody tr th {\n",
       "        vertical-align: top;\n",
       "    }\n",
       "\n",
       "    .dataframe thead th {\n",
       "        text-align: right;\n",
       "    }\n",
       "</style>\n",
       "<table border=\"1\" class=\"dataframe\">\n",
       "  <thead>\n",
       "    <tr style=\"text-align: right;\">\n",
       "      <th></th>\n",
       "      <th>metrica</th>\n",
       "      <th>latitud</th>\n",
       "      <th>longitud</th>\n",
       "    </tr>\n",
       "  </thead>\n",
       "  <tbody>\n",
       "    <tr>\n",
       "      <th>0</th>\n",
       "      <td>tipo</td>\n",
       "      <td>float64</td>\n",
       "      <td>float64</td>\n",
       "    </tr>\n",
       "    <tr>\n",
       "      <th>1</th>\n",
       "      <td>numero de observaciones</td>\n",
       "      <td>1.3827e+06</td>\n",
       "      <td>1.3827e+06</td>\n",
       "    </tr>\n",
       "    <tr>\n",
       "      <th>2</th>\n",
       "      <td>media</td>\n",
       "      <td>19.38</td>\n",
       "      <td>-99.14</td>\n",
       "    </tr>\n",
       "    <tr>\n",
       "      <th>3</th>\n",
       "      <td>desviacion estándar</td>\n",
       "      <td>0.27</td>\n",
       "      <td>2.4</td>\n",
       "    </tr>\n",
       "    <tr>\n",
       "      <th>4</th>\n",
       "      <td>cuartil 25%</td>\n",
       "      <td>19.34</td>\n",
       "      <td>-99.18</td>\n",
       "    </tr>\n",
       "    <tr>\n",
       "      <th>5</th>\n",
       "      <td>cuartil 50%</td>\n",
       "      <td>19.38</td>\n",
       "      <td>-99.14</td>\n",
       "    </tr>\n",
       "    <tr>\n",
       "      <th>6</th>\n",
       "      <td>cuartil 75%</td>\n",
       "      <td>19.43</td>\n",
       "      <td>-99.1</td>\n",
       "    </tr>\n",
       "    <tr>\n",
       "      <th>7</th>\n",
       "      <td>minimo</td>\n",
       "      <td>19.09</td>\n",
       "      <td>-991.76</td>\n",
       "    </tr>\n",
       "    <tr>\n",
       "      <th>8</th>\n",
       "      <td>maximo</td>\n",
       "      <td>195.3</td>\n",
       "      <td>-98.95</td>\n",
       "    </tr>\n",
       "    <tr>\n",
       "      <th>9</th>\n",
       "      <td>numero de observaciones unicas</td>\n",
       "      <td>82501</td>\n",
       "      <td>78984</td>\n",
       "    </tr>\n",
       "    <tr>\n",
       "      <th>10</th>\n",
       "      <td>numero de faltantes</td>\n",
       "      <td>443</td>\n",
       "      <td>435</td>\n",
       "    </tr>\n",
       "    <tr>\n",
       "      <th>11</th>\n",
       "      <td>top1/veces/porcentaje</td>\n",
       "      <td>[19.30431996, 2,173, 0.16%]</td>\n",
       "      <td>[-99.08024004, 2,162, 0.16%]</td>\n",
       "    </tr>\n",
       "    <tr>\n",
       "      <th>12</th>\n",
       "      <td>top2/veces/porcentaje</td>\n",
       "      <td>[19.37168001, 2,162, 0.16%]</td>\n",
       "      <td>[-99.08714016, 2,100, 0.15%]</td>\n",
       "    </tr>\n",
       "    <tr>\n",
       "      <th>13</th>\n",
       "      <td>top3/veces/porcentaje</td>\n",
       "      <td>[19.347020999999998, 1,730, 0.13%]</td>\n",
       "      <td>[-99.180646, 1,731, 0.13%]</td>\n",
       "    </tr>\n",
       "    <tr>\n",
       "      <th>14</th>\n",
       "      <td>top4/veces/porcentaje</td>\n",
       "      <td>[19.35663003, 1,607, 0.12%]</td>\n",
       "      <td>[-99.08655984, 1,500, 0.11%]</td>\n",
       "    </tr>\n",
       "    <tr>\n",
       "      <th>15</th>\n",
       "      <td>top3/veces/porcentaje</td>\n",
       "      <td>[19.36316997, 1,412, 0.1%]</td>\n",
       "      <td>[-99.05739984, 1,407, 0.1%]</td>\n",
       "    </tr>\n",
       "  </tbody>\n",
       "</table>\n",
       "</div>"
      ],
      "text/plain": [
       "                           metrica                             latitud  \\\n",
       "0                             tipo                             float64   \n",
       "1          numero de observaciones                          1.3827e+06   \n",
       "2                            media                               19.38   \n",
       "3              desviacion estándar                                0.27   \n",
       "4                      cuartil 25%                               19.34   \n",
       "5                      cuartil 50%                               19.38   \n",
       "6                      cuartil 75%                               19.43   \n",
       "7                           minimo                               19.09   \n",
       "8                           maximo                               195.3   \n",
       "9   numero de observaciones unicas                               82501   \n",
       "10             numero de faltantes                                 443   \n",
       "11           top1/veces/porcentaje         [19.30431996, 2,173, 0.16%]   \n",
       "12           top2/veces/porcentaje         [19.37168001, 2,162, 0.16%]   \n",
       "13           top3/veces/porcentaje  [19.347020999999998, 1,730, 0.13%]   \n",
       "14           top4/veces/porcentaje         [19.35663003, 1,607, 0.12%]   \n",
       "15           top3/veces/porcentaje          [19.36316997, 1,412, 0.1%]   \n",
       "\n",
       "                        longitud  \n",
       "0                        float64  \n",
       "1                     1.3827e+06  \n",
       "2                         -99.14  \n",
       "3                            2.4  \n",
       "4                         -99.18  \n",
       "5                         -99.14  \n",
       "6                          -99.1  \n",
       "7                        -991.76  \n",
       "8                         -98.95  \n",
       "9                          78984  \n",
       "10                           435  \n",
       "11  [-99.08024004, 2,162, 0.16%]  \n",
       "12  [-99.08714016, 2,100, 0.15%]  \n",
       "13    [-99.180646, 1,731, 0.13%]  \n",
       "14  [-99.08655984, 1,500, 0.11%]  \n",
       "15   [-99.05739984, 1,407, 0.1%]  "
      ]
     },
     "execution_count": 79,
     "metadata": {},
     "output_type": "execute_result"
    }
   ],
   "source": [
    "profiling_numericas"
   ]
  },
  {
   "cell_type": "code",
   "execution_count": 80,
   "metadata": {},
   "outputs": [
    {
     "data": {
      "text/html": [
       "<div>\n",
       "<style scoped>\n",
       "    .dataframe tbody tr th:only-of-type {\n",
       "        vertical-align: middle;\n",
       "    }\n",
       "\n",
       "    .dataframe tbody tr th {\n",
       "        vertical-align: top;\n",
       "    }\n",
       "\n",
       "    .dataframe thead th {\n",
       "        text-align: right;\n",
       "    }\n",
       "</style>\n",
       "<table border=\"1\" class=\"dataframe\">\n",
       "  <thead>\n",
       "    <tr style=\"text-align: right;\">\n",
       "      <th></th>\n",
       "      <th>metrica</th>\n",
       "      <th>dia_semana</th>\n",
       "      <th>codigo_cierre</th>\n",
       "      <th>año_cierre</th>\n",
       "      <th>mes_cierre</th>\n",
       "      <th>delegacion_inicio</th>\n",
       "      <th>incidente_c4</th>\n",
       "      <th>clas_con_f_alarma</th>\n",
       "      <th>tipo_entrada</th>\n",
       "      <th>delegacion_cierre</th>\n",
       "      <th>mes</th>\n",
       "    </tr>\n",
       "  </thead>\n",
       "  <tbody>\n",
       "    <tr>\n",
       "      <th>0</th>\n",
       "      <td>tipo</td>\n",
       "      <td>category</td>\n",
       "      <td>category</td>\n",
       "      <td>category</td>\n",
       "      <td>category</td>\n",
       "      <td>category</td>\n",
       "      <td>category</td>\n",
       "      <td>category</td>\n",
       "      <td>category</td>\n",
       "      <td>category</td>\n",
       "      <td>category</td>\n",
       "    </tr>\n",
       "    <tr>\n",
       "      <th>1</th>\n",
       "      <td>numero de categorias</td>\n",
       "      <td>7</td>\n",
       "      <td>5</td>\n",
       "      <td>7</td>\n",
       "      <td>12</td>\n",
       "      <td>16</td>\n",
       "      <td>26</td>\n",
       "      <td>4</td>\n",
       "      <td>9</td>\n",
       "      <td>16</td>\n",
       "      <td>12</td>\n",
       "    </tr>\n",
       "    <tr>\n",
       "      <th>2</th>\n",
       "      <td>numero de observaciones</td>\n",
       "      <td>1383138</td>\n",
       "      <td>1383138</td>\n",
       "      <td>1383138</td>\n",
       "      <td>1383138</td>\n",
       "      <td>1383138</td>\n",
       "      <td>1383138</td>\n",
       "      <td>1383138</td>\n",
       "      <td>1383138</td>\n",
       "      <td>1383138</td>\n",
       "      <td>1383138</td>\n",
       "    </tr>\n",
       "    <tr>\n",
       "      <th>3</th>\n",
       "      <td>observaciones nulas</td>\n",
       "      <td>0</td>\n",
       "      <td>0</td>\n",
       "      <td>0</td>\n",
       "      <td>0</td>\n",
       "      <td>158</td>\n",
       "      <td>0</td>\n",
       "      <td>0</td>\n",
       "      <td>0</td>\n",
       "      <td>140</td>\n",
       "      <td>0</td>\n",
       "    </tr>\n",
       "    <tr>\n",
       "      <th>4</th>\n",
       "      <td>% observaciones nulas</td>\n",
       "      <td>0</td>\n",
       "      <td>0</td>\n",
       "      <td>0</td>\n",
       "      <td>0</td>\n",
       "      <td>0.000114233</td>\n",
       "      <td>0</td>\n",
       "      <td>0</td>\n",
       "      <td>0</td>\n",
       "      <td>0.000101219</td>\n",
       "      <td>0</td>\n",
       "    </tr>\n",
       "    <tr>\n",
       "      <th>5</th>\n",
       "      <td>valores unicos</td>\n",
       "      <td>[Sábado, Domingo, Lunes, Martes, Miércoles, Ju...</td>\n",
       "      <td>[(A) La unidad de atención a emergencias fue d...</td>\n",
       "      <td>[2016, 2017, 2018, 2019, 2015, 2014, 2020]</td>\n",
       "      <td>[Enero, Febrero, Marzo, Septiembre, Octubre, M...</td>\n",
       "      <td>[VENUSTIANO CARRANZA, CUAJIMALPA, TLALPAN, MAG...</td>\n",
       "      <td>[accidente-choque sin lesionados, accidente-ch...</td>\n",
       "      <td>[EMERGENCIA, URGENCIAS MEDICAS, FALSA ALARMA, ...</td>\n",
       "      <td>[BOTÓN DE AUXILIO, LLAMADA DEL 066, RADIO, CÁM...</td>\n",
       "      <td>[VENUSTIANO CARRANZA, CUAJIMALPA, TLALPAN, MAG...</td>\n",
       "      <td>[1, 2, 3, 9, 10, 5, 6, 4, 8, 12, 7, 11]</td>\n",
       "    </tr>\n",
       "    <tr>\n",
       "      <th>6</th>\n",
       "      <td>moda1/veces/porcentaje</td>\n",
       "      <td>[Viernes, 229,681, 16.61%]</td>\n",
       "      <td>[(A) La unidad de atención a emergencias fue d...</td>\n",
       "      <td>[2018, 246,577, 17.83%]</td>\n",
       "      <td>[Octubre, 133,641, 9.66%]</td>\n",
       "      <td>[IZTAPALAPA, 223,687, 16.17%]</td>\n",
       "      <td>[accidente-choque sin lesionados, 760,506, 54....</td>\n",
       "      <td>[EMERGENCIA, 799,037, 57.77%]</td>\n",
       "      <td>[LLAMADA DEL 911, 739,339, 53.45%]</td>\n",
       "      <td>[IZTAPALAPA, 225,202, 16.28%]</td>\n",
       "      <td>[10, 133,641, 9.66%]</td>\n",
       "    </tr>\n",
       "    <tr>\n",
       "      <th>7</th>\n",
       "      <td>moda2/veces/porcentaje</td>\n",
       "      <td>[Sábado, 214,134, 15.48%]</td>\n",
       "      <td>[(D) El incidente reportado se registró en dos...</td>\n",
       "      <td>[2019, 229,467, 16.59%]</td>\n",
       "      <td>[Agosto, 121,123, 8.76%]</td>\n",
       "      <td>[GUSTAVO A. MADERO, 144,620, 10.46%]</td>\n",
       "      <td>[accidente-choque con lesionados, 315,031, 22....</td>\n",
       "      <td>[URGENCIAS MEDICAS, 572,619, 41.4%]</td>\n",
       "      <td>[LLAMADA DEL 066, 463,432, 33.51%]</td>\n",
       "      <td>[GUSTAVO A. MADERO, 147,582, 10.67%]</td>\n",
       "      <td>[8, 121,123, 8.76%]</td>\n",
       "    </tr>\n",
       "    <tr>\n",
       "      <th>8</th>\n",
       "      <td>moda3/veces/porcentaje</td>\n",
       "      <td>[Jueves, 198,147, 14.33%]</td>\n",
       "      <td>[(N) La unidad de atención a emergencias fue d...</td>\n",
       "      <td>[2017, 226,535, 16.38%]</td>\n",
       "      <td>[Septiembre, 120,581, 8.72%]</td>\n",
       "      <td>[CUAUHTEMOC, 141,391, 10.22%]</td>\n",
       "      <td>[lesionado-atropellado, 193,553, 13.99%]</td>\n",
       "      <td>[FALSA ALARMA, 10,630, 0.77%]</td>\n",
       "      <td>[BOTÓN DE AUXILIO, 78,630, 5.68%]</td>\n",
       "      <td>[CUAUHTEMOC, 141,781, 10.25%]</td>\n",
       "      <td>[9, 120,581, 8.72%]</td>\n",
       "    </tr>\n",
       "  </tbody>\n",
       "</table>\n",
       "</div>"
      ],
      "text/plain": [
       "                   metrica                                         dia_semana  \\\n",
       "0                     tipo                                           category   \n",
       "1     numero de categorias                                                  7   \n",
       "2  numero de observaciones                                            1383138   \n",
       "3      observaciones nulas                                                  0   \n",
       "4    % observaciones nulas                                                  0   \n",
       "5           valores unicos  [Sábado, Domingo, Lunes, Martes, Miércoles, Ju...   \n",
       "6   moda1/veces/porcentaje                         [Viernes, 229,681, 16.61%]   \n",
       "7   moda2/veces/porcentaje                          [Sábado, 214,134, 15.48%]   \n",
       "8   moda3/veces/porcentaje                          [Jueves, 198,147, 14.33%]   \n",
       "\n",
       "                                       codigo_cierre  \\\n",
       "0                                           category   \n",
       "1                                                  5   \n",
       "2                                            1383138   \n",
       "3                                                  0   \n",
       "4                                                  0   \n",
       "5  [(A) La unidad de atención a emergencias fue d...   \n",
       "6  [(A) La unidad de atención a emergencias fue d...   \n",
       "7  [(D) El incidente reportado se registró en dos...   \n",
       "8  [(N) La unidad de atención a emergencias fue d...   \n",
       "\n",
       "                                   año_cierre  \\\n",
       "0                                    category   \n",
       "1                                           7   \n",
       "2                                     1383138   \n",
       "3                                           0   \n",
       "4                                           0   \n",
       "5  [2016, 2017, 2018, 2019, 2015, 2014, 2020]   \n",
       "6                     [2018, 246,577, 17.83%]   \n",
       "7                     [2019, 229,467, 16.59%]   \n",
       "8                     [2017, 226,535, 16.38%]   \n",
       "\n",
       "                                          mes_cierre  \\\n",
       "0                                           category   \n",
       "1                                                 12   \n",
       "2                                            1383138   \n",
       "3                                                  0   \n",
       "4                                                  0   \n",
       "5  [Enero, Febrero, Marzo, Septiembre, Octubre, M...   \n",
       "6                          [Octubre, 133,641, 9.66%]   \n",
       "7                           [Agosto, 121,123, 8.76%]   \n",
       "8                       [Septiembre, 120,581, 8.72%]   \n",
       "\n",
       "                                   delegacion_inicio  \\\n",
       "0                                           category   \n",
       "1                                                 16   \n",
       "2                                            1383138   \n",
       "3                                                158   \n",
       "4                                        0.000114233   \n",
       "5  [VENUSTIANO CARRANZA, CUAJIMALPA, TLALPAN, MAG...   \n",
       "6                      [IZTAPALAPA, 223,687, 16.17%]   \n",
       "7               [GUSTAVO A. MADERO, 144,620, 10.46%]   \n",
       "8                      [CUAUHTEMOC, 141,391, 10.22%]   \n",
       "\n",
       "                                        incidente_c4  \\\n",
       "0                                           category   \n",
       "1                                                 26   \n",
       "2                                            1383138   \n",
       "3                                                  0   \n",
       "4                                                  0   \n",
       "5  [accidente-choque sin lesionados, accidente-ch...   \n",
       "6  [accidente-choque sin lesionados, 760,506, 54....   \n",
       "7  [accidente-choque con lesionados, 315,031, 22....   \n",
       "8           [lesionado-atropellado, 193,553, 13.99%]   \n",
       "\n",
       "                                   clas_con_f_alarma  \\\n",
       "0                                           category   \n",
       "1                                                  4   \n",
       "2                                            1383138   \n",
       "3                                                  0   \n",
       "4                                                  0   \n",
       "5  [EMERGENCIA, URGENCIAS MEDICAS, FALSA ALARMA, ...   \n",
       "6                      [EMERGENCIA, 799,037, 57.77%]   \n",
       "7                [URGENCIAS MEDICAS, 572,619, 41.4%]   \n",
       "8                      [FALSA ALARMA, 10,630, 0.77%]   \n",
       "\n",
       "                                        tipo_entrada  \\\n",
       "0                                           category   \n",
       "1                                                  9   \n",
       "2                                            1383138   \n",
       "3                                                  0   \n",
       "4                                                  0   \n",
       "5  [BOTÓN DE AUXILIO, LLAMADA DEL 066, RADIO, CÁM...   \n",
       "6                 [LLAMADA DEL 911, 739,339, 53.45%]   \n",
       "7                 [LLAMADA DEL 066, 463,432, 33.51%]   \n",
       "8                  [BOTÓN DE AUXILIO, 78,630, 5.68%]   \n",
       "\n",
       "                                   delegacion_cierre  \\\n",
       "0                                           category   \n",
       "1                                                 16   \n",
       "2                                            1383138   \n",
       "3                                                140   \n",
       "4                                        0.000101219   \n",
       "5  [VENUSTIANO CARRANZA, CUAJIMALPA, TLALPAN, MAG...   \n",
       "6                      [IZTAPALAPA, 225,202, 16.28%]   \n",
       "7               [GUSTAVO A. MADERO, 147,582, 10.67%]   \n",
       "8                      [CUAUHTEMOC, 141,781, 10.25%]   \n",
       "\n",
       "                                       mes  \n",
       "0                                 category  \n",
       "1                                       12  \n",
       "2                                  1383138  \n",
       "3                                        0  \n",
       "4                                        0  \n",
       "5  [1, 2, 3, 9, 10, 5, 6, 4, 8, 12, 7, 11]  \n",
       "6                     [10, 133,641, 9.66%]  \n",
       "7                      [8, 121,123, 8.76%]  \n",
       "8                      [9, 120,581, 8.72%]  "
      ]
     },
     "execution_count": 80,
     "metadata": {},
     "output_type": "execute_result"
    }
   ],
   "source": [
    "profiling_categoricas"
   ]
  },
  {
   "cell_type": "markdown",
   "metadata": {},
   "source": [
    "Regresar mes a numérica"
   ]
  },
  {
   "cell_type": "code",
   "execution_count": null,
   "metadata": {},
   "outputs": [],
   "source": []
  },
  {
   "cell_type": "markdown",
   "metadata": {},
   "source": [
    "Creamos la variable de timestamp"
   ]
  },
  {
   "cell_type": "code",
   "execution_count": 81,
   "metadata": {},
   "outputs": [],
   "source": [
    "df_incidentes['hora_creacion'] = df_incidentes['hora_creacion'].astype('str')"
   ]
  },
  {
   "cell_type": "code",
   "execution_count": 82,
   "metadata": {},
   "outputs": [],
   "source": [
    "df_incidentes['fecha_creacion'] = df_incidentes['fecha_creacion'].astype('str')"
   ]
  },
  {
   "cell_type": "code",
   "execution_count": 83,
   "metadata": {},
   "outputs": [],
   "source": [
    "df_incidentes['timestamp_creacion'] = df_incidentes['fecha_creacion']+' '+df_incidentes['hora_creacion']"
   ]
  },
  {
   "cell_type": "code",
   "execution_count": 84,
   "metadata": {},
   "outputs": [],
   "source": [
    "# convert the 'Date' column to datetime format\n",
    "df_incidentes['timestamp_creacion']= pd.to_datetime(df_incidentes['timestamp_creacion'])"
   ]
  },
  {
   "cell_type": "code",
   "execution_count": 85,
   "metadata": {},
   "outputs": [],
   "source": [
    "df_incidentes['hora_cierre'] = df_incidentes['hora_cierre'].astype('str')"
   ]
  },
  {
   "cell_type": "code",
   "execution_count": 86,
   "metadata": {},
   "outputs": [],
   "source": [
    "df_incidentes['fecha_cierre'] = df_incidentes['fecha_cierre'].astype('str')"
   ]
  },
  {
   "cell_type": "code",
   "execution_count": 87,
   "metadata": {},
   "outputs": [],
   "source": [
    "df_incidentes['timestamp_cierre'] = df_incidentes['fecha_cierre']+' '+df_incidentes['hora_cierre']"
   ]
  },
  {
   "cell_type": "code",
   "execution_count": 88,
   "metadata": {},
   "outputs": [],
   "source": [
    "# convert the 'Date' column to datetime format\n",
    "df_incidentes['timestamp_cierre']= pd.to_datetime(df_incidentes['timestamp_cierre'])"
   ]
  },
  {
   "cell_type": "code",
   "execution_count": 89,
   "metadata": {},
   "outputs": [],
   "source": [
    "diferencia_de_tiempo = df_incidentes['timestamp_cierre'] - df_incidentes['timestamp_creacion']"
   ]
  },
  {
   "cell_type": "code",
   "execution_count": 90,
   "metadata": {},
   "outputs": [
    {
     "data": {
      "text/plain": [
       "Timedelta('-1 days +23:59:00')"
      ]
     },
     "execution_count": 90,
     "metadata": {},
     "output_type": "execute_result"
    }
   ],
   "source": [
    "diferencia_de_tiempo.min()"
   ]
  },
  {
   "cell_type": "code",
   "execution_count": 91,
   "metadata": {},
   "outputs": [
    {
     "data": {
      "text/plain": [
       "Timedelta('397 days 03:59:16')"
      ]
     },
     "execution_count": 91,
     "metadata": {},
     "output_type": "execute_result"
    }
   ],
   "source": [
    "diferencia_de_tiempo.max()"
   ]
  },
  {
   "cell_type": "code",
   "execution_count": 92,
   "metadata": {},
   "outputs": [],
   "source": [
    "df_incidentes['dif_solucion'] = diferencia_de_tiempo"
   ]
  },
  {
   "cell_type": "code",
   "execution_count": 93,
   "metadata": {},
   "outputs": [
    {
     "data": {
      "text/html": [
       "<div>\n",
       "<style scoped>\n",
       "    .dataframe tbody tr th:only-of-type {\n",
       "        vertical-align: middle;\n",
       "    }\n",
       "\n",
       "    .dataframe tbody tr th {\n",
       "        vertical-align: top;\n",
       "    }\n",
       "\n",
       "    .dataframe thead th {\n",
       "        text-align: right;\n",
       "    }\n",
       "</style>\n",
       "<table border=\"1\" class=\"dataframe\">\n",
       "  <thead>\n",
       "    <tr style=\"text-align: right;\">\n",
       "      <th></th>\n",
       "      <th>folio</th>\n",
       "      <th>fecha_creacion</th>\n",
       "      <th>hora_creacion</th>\n",
       "      <th>dia_semana</th>\n",
       "      <th>codigo_cierre</th>\n",
       "      <th>fecha_cierre</th>\n",
       "      <th>año_cierre</th>\n",
       "      <th>mes_cierre</th>\n",
       "      <th>hora_cierre</th>\n",
       "      <th>delegacion_inicio</th>\n",
       "      <th>...</th>\n",
       "      <th>latitud</th>\n",
       "      <th>longitud</th>\n",
       "      <th>clas_con_f_alarma</th>\n",
       "      <th>tipo_entrada</th>\n",
       "      <th>delegacion_cierre</th>\n",
       "      <th>geopoint</th>\n",
       "      <th>mes</th>\n",
       "      <th>timestamp_creacion</th>\n",
       "      <th>timestamp_cierre</th>\n",
       "      <th>dif_solucion</th>\n",
       "    </tr>\n",
       "  </thead>\n",
       "  <tbody>\n",
       "    <tr>\n",
       "      <th>315800</th>\n",
       "      <td>C5/160428/02284</td>\n",
       "      <td>2016-04-28</td>\n",
       "      <td>12:13:08</td>\n",
       "      <td>Jueves</td>\n",
       "      <td>(N) La unidad de atención a emergencias fue de...</td>\n",
       "      <td>2016-04-28</td>\n",
       "      <td>2016</td>\n",
       "      <td>Abril</td>\n",
       "      <td>14:07:31</td>\n",
       "      <td>ALVARO OBREGON</td>\n",
       "      <td>...</td>\n",
       "      <td>19.35606</td>\n",
       "      <td>-99.2392</td>\n",
       "      <td>EMERGENCIA</td>\n",
       "      <td>LLAMADA DEL 066</td>\n",
       "      <td>ALVARO OBREGON</td>\n",
       "      <td>19.35605997,-99.23919984</td>\n",
       "      <td>4</td>\n",
       "      <td>2016-04-28 12:13:08</td>\n",
       "      <td>2016-04-28 14:07:31</td>\n",
       "      <td>0 days 01:54:23</td>\n",
       "    </tr>\n",
       "  </tbody>\n",
       "</table>\n",
       "<p>1 rows × 21 columns</p>\n",
       "</div>"
      ],
      "text/plain": [
       "                  folio fecha_creacion hora_creacion dia_semana  \\\n",
       "315800  C5/160428/02284     2016-04-28      12:13:08     Jueves   \n",
       "\n",
       "                                            codigo_cierre fecha_cierre  \\\n",
       "315800  (N) La unidad de atención a emergencias fue de...   2016-04-28   \n",
       "\n",
       "       año_cierre mes_cierre hora_cierre delegacion_inicio  ...   latitud  \\\n",
       "315800       2016      Abril    14:07:31    ALVARO OBREGON  ...  19.35606   \n",
       "\n",
       "        longitud  clas_con_f_alarma     tipo_entrada delegacion_cierre  \\\n",
       "315800  -99.2392         EMERGENCIA  LLAMADA DEL 066    ALVARO OBREGON   \n",
       "\n",
       "                        geopoint mes  timestamp_creacion    timestamp_cierre  \\\n",
       "315800  19.35605997,-99.23919984   4 2016-04-28 12:13:08 2016-04-28 14:07:31   \n",
       "\n",
       "          dif_solucion  \n",
       "315800 0 days 01:54:23  \n",
       "\n",
       "[1 rows x 21 columns]"
      ]
     },
     "execution_count": 93,
     "metadata": {},
     "output_type": "execute_result"
    }
   ],
   "source": [
    "df_incidentes.sample()"
   ]
  },
  {
   "cell_type": "code",
   "execution_count": 94,
   "metadata": {},
   "outputs": [
    {
     "data": {
      "text/plain": [
       "folio                                                   C5/190820/07924\n",
       "fecha_creacion                                               2019-08-20\n",
       "hora_creacion                                                  23:37:03\n",
       "dia_semana                                                       Martes\n",
       "codigo_cierre         (D) El incidente reportado se registró en dos ...\n",
       "fecha_cierre                                                 2019-08-20\n",
       "año_cierre                                                         2019\n",
       "mes_cierre                                                       Agosto\n",
       "hora_cierre                                                    23:45:10\n",
       "delegacion_inicio                                            XOCHIMILCO\n",
       "incidente_c4                            accidente-choque con lesionados\n",
       "latitud                                                         19.2525\n",
       "longitud                                                       -99.1014\n",
       "clas_con_f_alarma                                     URGENCIAS MEDICAS\n",
       "tipo_entrada                                            LLAMADA DEL 911\n",
       "delegacion_cierre                                            XOCHIMILCO\n",
       "geopoint                                       19.25245998,-99.10139004\n",
       "mes                                                                   8\n",
       "timestamp_creacion                                  2019-08-20 23:37:03\n",
       "timestamp_cierre                                    2019-08-20 23:45:10\n",
       "dif_solucion                                            0 days 00:08:07\n",
       "Name: 1113029, dtype: object"
      ]
     },
     "execution_count": 94,
     "metadata": {},
     "output_type": "execute_result"
    }
   ],
   "source": [
    "df_incidentes.iloc[df_incidentes['dif_solucion'].idxmin()]"
   ]
  },
  {
   "cell_type": "code",
   "execution_count": 95,
   "metadata": {},
   "outputs": [
    {
     "data": {
      "text/plain": [
       "Timestamp('2020-10-31 23:57:20')"
      ]
     },
     "execution_count": 95,
     "metadata": {},
     "output_type": "execute_result"
    }
   ],
   "source": [
    "df_incidentes['timestamp_creacion'].max()"
   ]
  },
  {
   "cell_type": "code",
   "execution_count": 96,
   "metadata": {},
   "outputs": [
    {
     "data": {
      "text/plain": [
       "Timestamp('2013-12-31 13:01:33')"
      ]
     },
     "execution_count": 96,
     "metadata": {},
     "output_type": "execute_result"
    }
   ],
   "source": [
    "df_incidentes['timestamp_creacion'].min()"
   ]
  },
  {
   "cell_type": "code",
   "execution_count": 97,
   "metadata": {},
   "outputs": [],
   "source": [
    "#df_incidentes['timestamp_creacion']"
   ]
  },
  {
   "cell_type": "code",
   "execution_count": 98,
   "metadata": {},
   "outputs": [
    {
     "data": {
      "text/plain": [
       "array(['22:35:04', '22:50:49', '09:40:11', ..., '03:08:57', '02:05:12',\n",
       "       '04:33:05'], dtype=object)"
      ]
     },
     "execution_count": 98,
     "metadata": {},
     "output_type": "execute_result"
    }
   ],
   "source": [
    "df_incidentes['hora_creacion'].unique()"
   ]
  },
  {
   "cell_type": "code",
   "execution_count": null,
   "metadata": {},
   "outputs": [],
   "source": []
  },
  {
   "cell_type": "code",
   "execution_count": 99,
   "metadata": {},
   "outputs": [
    {
     "data": {
      "text/html": [
       "<div>\n",
       "<style scoped>\n",
       "    .dataframe tbody tr th:only-of-type {\n",
       "        vertical-align: middle;\n",
       "    }\n",
       "\n",
       "    .dataframe tbody tr th {\n",
       "        vertical-align: top;\n",
       "    }\n",
       "\n",
       "    .dataframe thead th {\n",
       "        text-align: right;\n",
       "    }\n",
       "</style>\n",
       "<table border=\"1\" class=\"dataframe\">\n",
       "  <thead>\n",
       "    <tr style=\"text-align: right;\">\n",
       "      <th></th>\n",
       "      <th>folio</th>\n",
       "      <th>fecha_creacion</th>\n",
       "      <th>hora_creacion</th>\n",
       "      <th>dia_semana</th>\n",
       "      <th>codigo_cierre</th>\n",
       "      <th>fecha_cierre</th>\n",
       "      <th>año_cierre</th>\n",
       "      <th>mes_cierre</th>\n",
       "      <th>hora_cierre</th>\n",
       "      <th>delegacion_inicio</th>\n",
       "      <th>...</th>\n",
       "      <th>latitud</th>\n",
       "      <th>longitud</th>\n",
       "      <th>clas_con_f_alarma</th>\n",
       "      <th>tipo_entrada</th>\n",
       "      <th>delegacion_cierre</th>\n",
       "      <th>geopoint</th>\n",
       "      <th>mes</th>\n",
       "      <th>timestamp_creacion</th>\n",
       "      <th>timestamp_cierre</th>\n",
       "      <th>dif_solucion</th>\n",
       "    </tr>\n",
       "  </thead>\n",
       "  <tbody>\n",
       "    <tr>\n",
       "      <th>284145</th>\n",
       "      <td>C5/181231/06094</td>\n",
       "      <td>2018-12-31</td>\n",
       "      <td>17:03:39</td>\n",
       "      <td>Lunes</td>\n",
       "      <td>(A) La unidad de atención a emergencias fue de...</td>\n",
       "      <td>2018-12-31</td>\n",
       "      <td>2018</td>\n",
       "      <td>Diciembre</td>\n",
       "      <td>17:21:08</td>\n",
       "      <td>BENITO JUAREZ</td>\n",
       "      <td>...</td>\n",
       "      <td>193.815</td>\n",
       "      <td>NaN</td>\n",
       "      <td>URGENCIAS MEDICAS</td>\n",
       "      <td>LLAMADA DEL 911</td>\n",
       "      <td>BENITO JUAREZ</td>\n",
       "      <td>NaN</td>\n",
       "      <td>12</td>\n",
       "      <td>2018-12-31 17:03:39</td>\n",
       "      <td>2018-12-31 17:21:08</td>\n",
       "      <td>0 days 00:17:29</td>\n",
       "    </tr>\n",
       "    <tr>\n",
       "      <th>436981</th>\n",
       "      <td>C5/181231/06971</td>\n",
       "      <td>2018-12-31</td>\n",
       "      <td>18:46:55</td>\n",
       "      <td>Lunes</td>\n",
       "      <td>(N) La unidad de atención a emergencias fue de...</td>\n",
       "      <td>2018-12-31</td>\n",
       "      <td>2018</td>\n",
       "      <td>Diciembre</td>\n",
       "      <td>19:00:13</td>\n",
       "      <td>IZTAPALAPA</td>\n",
       "      <td>...</td>\n",
       "      <td>193.446</td>\n",
       "      <td>NaN</td>\n",
       "      <td>EMERGENCIA</td>\n",
       "      <td>LLAMADA DEL 911</td>\n",
       "      <td>IZTAPALAPA</td>\n",
       "      <td>NaN</td>\n",
       "      <td>12</td>\n",
       "      <td>2018-12-31 18:46:55</td>\n",
       "      <td>2018-12-31 19:00:13</td>\n",
       "      <td>0 days 00:13:18</td>\n",
       "    </tr>\n",
       "    <tr>\n",
       "      <th>714661</th>\n",
       "      <td>GA/181231/04533</td>\n",
       "      <td>2018-12-31</td>\n",
       "      <td>14:15:47</td>\n",
       "      <td>Lunes</td>\n",
       "      <td>(A) La unidad de atención a emergencias fue de...</td>\n",
       "      <td>2018-12-31</td>\n",
       "      <td>2018</td>\n",
       "      <td>Diciembre</td>\n",
       "      <td>17:16:38</td>\n",
       "      <td>GUSTAVO A. MADERO</td>\n",
       "      <td>...</td>\n",
       "      <td>195.303</td>\n",
       "      <td>NaN</td>\n",
       "      <td>EMERGENCIA</td>\n",
       "      <td>BOTÓN DE AUXILIO</td>\n",
       "      <td>GUSTAVO A. MADERO</td>\n",
       "      <td>NaN</td>\n",
       "      <td>12</td>\n",
       "      <td>2018-12-31 14:15:47</td>\n",
       "      <td>2018-12-31 17:16:38</td>\n",
       "      <td>0 days 03:00:51</td>\n",
       "    </tr>\n",
       "  </tbody>\n",
       "</table>\n",
       "<p>3 rows × 21 columns</p>\n",
       "</div>"
      ],
      "text/plain": [
       "                  folio fecha_creacion hora_creacion dia_semana  \\\n",
       "284145  C5/181231/06094     2018-12-31      17:03:39      Lunes   \n",
       "436981  C5/181231/06971     2018-12-31      18:46:55      Lunes   \n",
       "714661  GA/181231/04533     2018-12-31      14:15:47      Lunes   \n",
       "\n",
       "                                            codigo_cierre fecha_cierre  \\\n",
       "284145  (A) La unidad de atención a emergencias fue de...   2018-12-31   \n",
       "436981  (N) La unidad de atención a emergencias fue de...   2018-12-31   \n",
       "714661  (A) La unidad de atención a emergencias fue de...   2018-12-31   \n",
       "\n",
       "       año_cierre mes_cierre hora_cierre  delegacion_inicio  ...  latitud  \\\n",
       "284145       2018  Diciembre    17:21:08      BENITO JUAREZ  ...  193.815   \n",
       "436981       2018  Diciembre    19:00:13         IZTAPALAPA  ...  193.446   \n",
       "714661       2018  Diciembre    17:16:38  GUSTAVO A. MADERO  ...  195.303   \n",
       "\n",
       "        longitud  clas_con_f_alarma      tipo_entrada  delegacion_cierre  \\\n",
       "284145       NaN  URGENCIAS MEDICAS   LLAMADA DEL 911      BENITO JUAREZ   \n",
       "436981       NaN         EMERGENCIA   LLAMADA DEL 911         IZTAPALAPA   \n",
       "714661       NaN         EMERGENCIA  BOTÓN DE AUXILIO  GUSTAVO A. MADERO   \n",
       "\n",
       "       geopoint mes  timestamp_creacion    timestamp_cierre    dif_solucion  \n",
       "284145      NaN  12 2018-12-31 17:03:39 2018-12-31 17:21:08 0 days 00:17:29  \n",
       "436981      NaN  12 2018-12-31 18:46:55 2018-12-31 19:00:13 0 days 00:13:18  \n",
       "714661      NaN  12 2018-12-31 14:15:47 2018-12-31 17:16:38 0 days 03:00:51  \n",
       "\n",
       "[3 rows x 21 columns]"
      ]
     },
     "execution_count": 99,
     "metadata": {},
     "output_type": "execute_result"
    }
   ],
   "source": [
    "df_incidentes.loc[df_incidentes[\"latitud\"] > 20]"
   ]
  },
  {
   "cell_type": "code",
   "execution_count": 100,
   "metadata": {},
   "outputs": [
    {
     "data": {
      "text/html": [
       "<div>\n",
       "<style scoped>\n",
       "    .dataframe tbody tr th:only-of-type {\n",
       "        vertical-align: middle;\n",
       "    }\n",
       "\n",
       "    .dataframe tbody tr th {\n",
       "        vertical-align: top;\n",
       "    }\n",
       "\n",
       "    .dataframe thead th {\n",
       "        text-align: right;\n",
       "    }\n",
       "</style>\n",
       "<table border=\"1\" class=\"dataframe\">\n",
       "  <thead>\n",
       "    <tr style=\"text-align: right;\">\n",
       "      <th></th>\n",
       "      <th>folio</th>\n",
       "      <th>fecha_creacion</th>\n",
       "      <th>hora_creacion</th>\n",
       "      <th>dia_semana</th>\n",
       "      <th>codigo_cierre</th>\n",
       "      <th>fecha_cierre</th>\n",
       "      <th>año_cierre</th>\n",
       "      <th>mes_cierre</th>\n",
       "      <th>hora_cierre</th>\n",
       "      <th>delegacion_inicio</th>\n",
       "      <th>...</th>\n",
       "      <th>latitud</th>\n",
       "      <th>longitud</th>\n",
       "      <th>clas_con_f_alarma</th>\n",
       "      <th>tipo_entrada</th>\n",
       "      <th>delegacion_cierre</th>\n",
       "      <th>geopoint</th>\n",
       "      <th>mes</th>\n",
       "      <th>timestamp_creacion</th>\n",
       "      <th>timestamp_cierre</th>\n",
       "      <th>dif_solucion</th>\n",
       "    </tr>\n",
       "  </thead>\n",
       "  <tbody>\n",
       "    <tr>\n",
       "      <th>284110</th>\n",
       "      <td>C5/181231/01210</td>\n",
       "      <td>2018-12-31</td>\n",
       "      <td>06:02:10</td>\n",
       "      <td>Lunes</td>\n",
       "      <td>(D) El incidente reportado se registró en dos ...</td>\n",
       "      <td>2018-12-31</td>\n",
       "      <td>2018</td>\n",
       "      <td>Diciembre</td>\n",
       "      <td>06:05:35</td>\n",
       "      <td>IZTAPALAPA</td>\n",
       "      <td>...</td>\n",
       "      <td>NaN</td>\n",
       "      <td>-990.369</td>\n",
       "      <td>URGENCIAS MEDICAS</td>\n",
       "      <td>LLAMADA DEL 911</td>\n",
       "      <td>IZTAPALAPA</td>\n",
       "      <td>NaN</td>\n",
       "      <td>12</td>\n",
       "      <td>2018-12-31 06:02:10</td>\n",
       "      <td>2018-12-31 06:05:35</td>\n",
       "      <td>0 days 00:03:25</td>\n",
       "    </tr>\n",
       "    <tr>\n",
       "      <th>284125</th>\n",
       "      <td>C5/181231/05350</td>\n",
       "      <td>2018-12-31</td>\n",
       "      <td>15:42:11</td>\n",
       "      <td>Lunes</td>\n",
       "      <td>(D) El incidente reportado se registró en dos ...</td>\n",
       "      <td>2018-12-31</td>\n",
       "      <td>2018</td>\n",
       "      <td>Diciembre</td>\n",
       "      <td>15:50:06</td>\n",
       "      <td>CUAUHTEMOC</td>\n",
       "      <td>...</td>\n",
       "      <td>NaN</td>\n",
       "      <td>-991.692</td>\n",
       "      <td>URGENCIAS MEDICAS</td>\n",
       "      <td>LLAMADA DEL 911</td>\n",
       "      <td>CUAUHTEMOC</td>\n",
       "      <td>NaN</td>\n",
       "      <td>12</td>\n",
       "      <td>2018-12-31 15:42:11</td>\n",
       "      <td>2018-12-31 15:50:06</td>\n",
       "      <td>0 days 00:07:55</td>\n",
       "    </tr>\n",
       "    <tr>\n",
       "      <th>436964</th>\n",
       "      <td>C5/181231/06210</td>\n",
       "      <td>2018-12-31</td>\n",
       "      <td>17:18:40</td>\n",
       "      <td>Lunes</td>\n",
       "      <td>(A) La unidad de atención a emergencias fue de...</td>\n",
       "      <td>2018-12-31</td>\n",
       "      <td>2018</td>\n",
       "      <td>Diciembre</td>\n",
       "      <td>19:09:52</td>\n",
       "      <td>IZTACALCO</td>\n",
       "      <td>...</td>\n",
       "      <td>NaN</td>\n",
       "      <td>-990.765</td>\n",
       "      <td>URGENCIAS MEDICAS</td>\n",
       "      <td>RADIO</td>\n",
       "      <td>IZTACALCO</td>\n",
       "      <td>NaN</td>\n",
       "      <td>12</td>\n",
       "      <td>2018-12-31 17:18:40</td>\n",
       "      <td>2018-12-31 19:09:52</td>\n",
       "      <td>0 days 01:51:12</td>\n",
       "    </tr>\n",
       "    <tr>\n",
       "      <th>436990</th>\n",
       "      <td>C5/181231/01068</td>\n",
       "      <td>2018-12-31</td>\n",
       "      <td>04:51:42</td>\n",
       "      <td>Lunes</td>\n",
       "      <td>(D) El incidente reportado se registró en dos ...</td>\n",
       "      <td>2018-12-31</td>\n",
       "      <td>2018</td>\n",
       "      <td>Diciembre</td>\n",
       "      <td>05:18:29</td>\n",
       "      <td>AZCAPOTZALCO</td>\n",
       "      <td>...</td>\n",
       "      <td>NaN</td>\n",
       "      <td>-991.764</td>\n",
       "      <td>URGENCIAS MEDICAS</td>\n",
       "      <td>LLAMADA DEL 911</td>\n",
       "      <td>AZCAPOTZALCO</td>\n",
       "      <td>NaN</td>\n",
       "      <td>12</td>\n",
       "      <td>2018-12-31 04:51:42</td>\n",
       "      <td>2018-12-31 05:18:29</td>\n",
       "      <td>0 days 00:26:47</td>\n",
       "    </tr>\n",
       "    <tr>\n",
       "      <th>437000</th>\n",
       "      <td>C5/181231/05354</td>\n",
       "      <td>2018-12-31</td>\n",
       "      <td>15:42:14</td>\n",
       "      <td>Lunes</td>\n",
       "      <td>(D) El incidente reportado se registró en dos ...</td>\n",
       "      <td>2018-12-31</td>\n",
       "      <td>2018</td>\n",
       "      <td>Diciembre</td>\n",
       "      <td>15:49:03</td>\n",
       "      <td>CUAUHTEMOC</td>\n",
       "      <td>...</td>\n",
       "      <td>NaN</td>\n",
       "      <td>-991.692</td>\n",
       "      <td>URGENCIAS MEDICAS</td>\n",
       "      <td>LLAMADA DEL 911</td>\n",
       "      <td>CUAUHTEMOC</td>\n",
       "      <td>NaN</td>\n",
       "      <td>12</td>\n",
       "      <td>2018-12-31 15:42:14</td>\n",
       "      <td>2018-12-31 15:49:03</td>\n",
       "      <td>0 days 00:06:49</td>\n",
       "    </tr>\n",
       "    <tr>\n",
       "      <th>437042</th>\n",
       "      <td>C5/181231/05353</td>\n",
       "      <td>2018-12-31</td>\n",
       "      <td>15:41:59</td>\n",
       "      <td>Lunes</td>\n",
       "      <td>(D) El incidente reportado se registró en dos ...</td>\n",
       "      <td>2018-12-31</td>\n",
       "      <td>2018</td>\n",
       "      <td>Diciembre</td>\n",
       "      <td>15:49:27</td>\n",
       "      <td>CUAUHTEMOC</td>\n",
       "      <td>...</td>\n",
       "      <td>NaN</td>\n",
       "      <td>-991.692</td>\n",
       "      <td>URGENCIAS MEDICAS</td>\n",
       "      <td>LLAMADA DEL 911</td>\n",
       "      <td>CUAUHTEMOC</td>\n",
       "      <td>NaN</td>\n",
       "      <td>12</td>\n",
       "      <td>2018-12-31 15:41:59</td>\n",
       "      <td>2018-12-31 15:49:27</td>\n",
       "      <td>0 days 00:07:28</td>\n",
       "    </tr>\n",
       "    <tr>\n",
       "      <th>437075</th>\n",
       "      <td>C5/181231/00961</td>\n",
       "      <td>2018-12-31</td>\n",
       "      <td>04:08:37</td>\n",
       "      <td>Lunes</td>\n",
       "      <td>(D) El incidente reportado se registró en dos ...</td>\n",
       "      <td>2018-12-31</td>\n",
       "      <td>2018</td>\n",
       "      <td>Diciembre</td>\n",
       "      <td>04:18:48</td>\n",
       "      <td>AZCAPOTZALCO</td>\n",
       "      <td>...</td>\n",
       "      <td>NaN</td>\n",
       "      <td>-991.764</td>\n",
       "      <td>URGENCIAS MEDICAS</td>\n",
       "      <td>LLAMADA DEL 911</td>\n",
       "      <td>AZCAPOTZALCO</td>\n",
       "      <td>NaN</td>\n",
       "      <td>12</td>\n",
       "      <td>2018-12-31 04:08:37</td>\n",
       "      <td>2018-12-31 04:18:48</td>\n",
       "      <td>0 days 00:10:11</td>\n",
       "    </tr>\n",
       "    <tr>\n",
       "      <th>714449</th>\n",
       "      <td>C5/181231/05744</td>\n",
       "      <td>2018-12-31</td>\n",
       "      <td>16:22:20</td>\n",
       "      <td>Lunes</td>\n",
       "      <td>(A) La unidad de atención a emergencias fue de...</td>\n",
       "      <td>2018-12-31</td>\n",
       "      <td>2018</td>\n",
       "      <td>Diciembre</td>\n",
       "      <td>18:10:39</td>\n",
       "      <td>IZTAPALAPA</td>\n",
       "      <td>...</td>\n",
       "      <td>NaN</td>\n",
       "      <td>-990.495</td>\n",
       "      <td>EMERGENCIA</td>\n",
       "      <td>LLAMADA DEL 911</td>\n",
       "      <td>IZTAPALAPA</td>\n",
       "      <td>NaN</td>\n",
       "      <td>12</td>\n",
       "      <td>2018-12-31 16:22:20</td>\n",
       "      <td>2018-12-31 18:10:39</td>\n",
       "      <td>0 days 01:48:19</td>\n",
       "    </tr>\n",
       "    <tr>\n",
       "      <th>714483</th>\n",
       "      <td>C5/181231/00956</td>\n",
       "      <td>2018-12-31</td>\n",
       "      <td>04:06:15</td>\n",
       "      <td>Lunes</td>\n",
       "      <td>(A) La unidad de atención a emergencias fue de...</td>\n",
       "      <td>2018-12-31</td>\n",
       "      <td>2018</td>\n",
       "      <td>Diciembre</td>\n",
       "      <td>06:22:55</td>\n",
       "      <td>AZCAPOTZALCO</td>\n",
       "      <td>...</td>\n",
       "      <td>NaN</td>\n",
       "      <td>-991.764</td>\n",
       "      <td>URGENCIAS MEDICAS</td>\n",
       "      <td>LLAMADA DEL 911</td>\n",
       "      <td>AZCAPOTZALCO</td>\n",
       "      <td>NaN</td>\n",
       "      <td>12</td>\n",
       "      <td>2018-12-31 04:06:15</td>\n",
       "      <td>2018-12-31 06:22:55</td>\n",
       "      <td>0 days 02:16:40</td>\n",
       "    </tr>\n",
       "    <tr>\n",
       "      <th>714513</th>\n",
       "      <td>C5/181231/04311</td>\n",
       "      <td>2018-12-31</td>\n",
       "      <td>13:34:03</td>\n",
       "      <td>Lunes</td>\n",
       "      <td>(A) La unidad de atención a emergencias fue de...</td>\n",
       "      <td>2018-12-31</td>\n",
       "      <td>2018</td>\n",
       "      <td>Diciembre</td>\n",
       "      <td>16:01:07</td>\n",
       "      <td>TLAHUAC</td>\n",
       "      <td>...</td>\n",
       "      <td>NaN</td>\n",
       "      <td>-989.595</td>\n",
       "      <td>EMERGENCIA</td>\n",
       "      <td>LLAMADA DEL 911</td>\n",
       "      <td>TLAHUAC</td>\n",
       "      <td>NaN</td>\n",
       "      <td>12</td>\n",
       "      <td>2018-12-31 13:34:03</td>\n",
       "      <td>2018-12-31 16:01:07</td>\n",
       "      <td>0 days 02:27:04</td>\n",
       "    </tr>\n",
       "  </tbody>\n",
       "</table>\n",
       "<p>10 rows × 21 columns</p>\n",
       "</div>"
      ],
      "text/plain": [
       "                  folio fecha_creacion hora_creacion dia_semana  \\\n",
       "284110  C5/181231/01210     2018-12-31      06:02:10      Lunes   \n",
       "284125  C5/181231/05350     2018-12-31      15:42:11      Lunes   \n",
       "436964  C5/181231/06210     2018-12-31      17:18:40      Lunes   \n",
       "436990  C5/181231/01068     2018-12-31      04:51:42      Lunes   \n",
       "437000  C5/181231/05354     2018-12-31      15:42:14      Lunes   \n",
       "437042  C5/181231/05353     2018-12-31      15:41:59      Lunes   \n",
       "437075  C5/181231/00961     2018-12-31      04:08:37      Lunes   \n",
       "714449  C5/181231/05744     2018-12-31      16:22:20      Lunes   \n",
       "714483  C5/181231/00956     2018-12-31      04:06:15      Lunes   \n",
       "714513  C5/181231/04311     2018-12-31      13:34:03      Lunes   \n",
       "\n",
       "                                            codigo_cierre fecha_cierre  \\\n",
       "284110  (D) El incidente reportado se registró en dos ...   2018-12-31   \n",
       "284125  (D) El incidente reportado se registró en dos ...   2018-12-31   \n",
       "436964  (A) La unidad de atención a emergencias fue de...   2018-12-31   \n",
       "436990  (D) El incidente reportado se registró en dos ...   2018-12-31   \n",
       "437000  (D) El incidente reportado se registró en dos ...   2018-12-31   \n",
       "437042  (D) El incidente reportado se registró en dos ...   2018-12-31   \n",
       "437075  (D) El incidente reportado se registró en dos ...   2018-12-31   \n",
       "714449  (A) La unidad de atención a emergencias fue de...   2018-12-31   \n",
       "714483  (A) La unidad de atención a emergencias fue de...   2018-12-31   \n",
       "714513  (A) La unidad de atención a emergencias fue de...   2018-12-31   \n",
       "\n",
       "       año_cierre mes_cierre hora_cierre delegacion_inicio  ... latitud  \\\n",
       "284110       2018  Diciembre    06:05:35        IZTAPALAPA  ...     NaN   \n",
       "284125       2018  Diciembre    15:50:06        CUAUHTEMOC  ...     NaN   \n",
       "436964       2018  Diciembre    19:09:52         IZTACALCO  ...     NaN   \n",
       "436990       2018  Diciembre    05:18:29      AZCAPOTZALCO  ...     NaN   \n",
       "437000       2018  Diciembre    15:49:03        CUAUHTEMOC  ...     NaN   \n",
       "437042       2018  Diciembre    15:49:27        CUAUHTEMOC  ...     NaN   \n",
       "437075       2018  Diciembre    04:18:48      AZCAPOTZALCO  ...     NaN   \n",
       "714449       2018  Diciembre    18:10:39        IZTAPALAPA  ...     NaN   \n",
       "714483       2018  Diciembre    06:22:55      AZCAPOTZALCO  ...     NaN   \n",
       "714513       2018  Diciembre    16:01:07           TLAHUAC  ...     NaN   \n",
       "\n",
       "        longitud  clas_con_f_alarma     tipo_entrada delegacion_cierre  \\\n",
       "284110  -990.369  URGENCIAS MEDICAS  LLAMADA DEL 911        IZTAPALAPA   \n",
       "284125  -991.692  URGENCIAS MEDICAS  LLAMADA DEL 911        CUAUHTEMOC   \n",
       "436964  -990.765  URGENCIAS MEDICAS            RADIO         IZTACALCO   \n",
       "436990  -991.764  URGENCIAS MEDICAS  LLAMADA DEL 911      AZCAPOTZALCO   \n",
       "437000  -991.692  URGENCIAS MEDICAS  LLAMADA DEL 911        CUAUHTEMOC   \n",
       "437042  -991.692  URGENCIAS MEDICAS  LLAMADA DEL 911        CUAUHTEMOC   \n",
       "437075  -991.764  URGENCIAS MEDICAS  LLAMADA DEL 911      AZCAPOTZALCO   \n",
       "714449  -990.495         EMERGENCIA  LLAMADA DEL 911        IZTAPALAPA   \n",
       "714483  -991.764  URGENCIAS MEDICAS  LLAMADA DEL 911      AZCAPOTZALCO   \n",
       "714513  -989.595         EMERGENCIA  LLAMADA DEL 911           TLAHUAC   \n",
       "\n",
       "       geopoint mes  timestamp_creacion    timestamp_cierre    dif_solucion  \n",
       "284110      NaN  12 2018-12-31 06:02:10 2018-12-31 06:05:35 0 days 00:03:25  \n",
       "284125      NaN  12 2018-12-31 15:42:11 2018-12-31 15:50:06 0 days 00:07:55  \n",
       "436964      NaN  12 2018-12-31 17:18:40 2018-12-31 19:09:52 0 days 01:51:12  \n",
       "436990      NaN  12 2018-12-31 04:51:42 2018-12-31 05:18:29 0 days 00:26:47  \n",
       "437000      NaN  12 2018-12-31 15:42:14 2018-12-31 15:49:03 0 days 00:06:49  \n",
       "437042      NaN  12 2018-12-31 15:41:59 2018-12-31 15:49:27 0 days 00:07:28  \n",
       "437075      NaN  12 2018-12-31 04:08:37 2018-12-31 04:18:48 0 days 00:10:11  \n",
       "714449      NaN  12 2018-12-31 16:22:20 2018-12-31 18:10:39 0 days 01:48:19  \n",
       "714483      NaN  12 2018-12-31 04:06:15 2018-12-31 06:22:55 0 days 02:16:40  \n",
       "714513      NaN  12 2018-12-31 13:34:03 2018-12-31 16:01:07 0 days 02:27:04  \n",
       "\n",
       "[10 rows x 21 columns]"
      ]
     },
     "execution_count": 100,
     "metadata": {},
     "output_type": "execute_result"
    }
   ],
   "source": [
    "df_incidentes.loc[df_incidentes[\"longitud\"] < -100]"
   ]
  },
  {
   "cell_type": "code",
   "execution_count": null,
   "metadata": {},
   "outputs": [],
   "source": [
    "eda.CreaTablaConteoPorcentaje(df_delitos,\"año_cierre\", False)"
   ]
  }
 ],
 "metadata": {
  "kernelspec": {
   "display_name": "proyecto_final_ids_2020",
   "language": "python",
   "name": "proyecto_final_ids_2020"
  },
  "language_info": {
   "codemirror_mode": {
    "name": "ipython",
    "version": 3
   },
   "file_extension": ".py",
   "mimetype": "text/x-python",
   "name": "python",
   "nbconvert_exporter": "python",
   "pygments_lexer": "ipython3",
   "version": "3.8.2"
  }
 },
 "nbformat": 4,
 "nbformat_minor": 4
}
